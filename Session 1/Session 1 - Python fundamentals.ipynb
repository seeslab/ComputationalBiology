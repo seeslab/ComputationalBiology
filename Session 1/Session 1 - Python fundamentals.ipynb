{
 "cells": [
  {
   "cell_type": "markdown",
   "metadata": {},
   "source": [
    "# Why Python\n",
    "\n",
    "Python is probably the most widely used all-purpose programming language in science. Although many people will use other languages for specific applications (e.g. R for statistical analysis), the beauty of Python is that it can be used for anything, from analyzing and comparing genome sequences, to training deep neural networks, producing beautiful interactive graphs, creating web apps, or designing an interface to interact with experimental equipment. Also outside academia, Python is being used more and more; take a look at these Google Trends:\n",
    "\n",
    "![Trends in the use of programming languages](Media/languages.png)\n",
    "\n",
    "For the purpose of this class, Python is useful because there are Python **modules** for all the topics we will be discussing (genomics, proteomics, metabolomics, networks, and machine learning). Additionally, Python is intuitive and well designed, so when your intuition tells you that something should work---well, it typically works.\n",
    "\n",
    "Last but not least, Python allows us to work with **notebooks**. The document you are reading (with an `.ipynb` extension) is a Python notebook. In notebooks, content is organized in **cells**, which may contain text or code. For example, the following cell contains a simple piece of Python code, which can be executed by selecting it and typing `ctrl+Enter`. Let's try it:"
   ]
  },
  {
   "cell_type": "code",
   "execution_count": 2,
   "metadata": {},
   "outputs": [
    {
     "name": "stdout",
     "output_type": "stream",
     "text": [
      "Hello world!\n"
     ]
    }
   ],
   "source": [
    "print('Hello world!')"
   ]
  },
  {
   "cell_type": "markdown",
   "metadata": {},
   "source": [
    "There you go! You may have just run your first Python program! :)\n",
    "\n",
    "Using the bar at the top of this page you can add, delete, move cells, change cell type to make them code or text, and many other things. You can also use the following shortcuts to do things faster:\n",
    "\n",
    "![Notebook shortcuts](Media/jupyter-shortcuts.png)"
   ]
  },
  {
   "cell_type": "markdown",
   "metadata": {},
   "source": [
    "# How to complete the practical work\n",
    "\n",
    "n"
   ]
  },
  {
   "cell_type": "markdown",
   "metadata": {},
   "source": [
    "# Basic types and data structures\n",
    "\n",
    "As any other programming language, Python uses some basic types and data structures. For example, some variables in Python are integers, others are floats, or strings, or lists...\n",
    "\n",
    "Unlike most other programming languages, however, in Python the types of variables are not fixed and do not need to be assigned beforehand. Rather, the type of a variable is defined when a value is assigned to it. Let's see how this works"
   ]
  },
  {
   "cell_type": "code",
   "execution_count": 4,
   "metadata": {},
   "outputs": [
    {
     "name": "stdout",
     "output_type": "stream",
     "text": [
      "<class 'int'>\n",
      "The value of v is 40\n"
     ]
    }
   ],
   "source": [
    "# Let's make \"v\" a variable of type int (integer) \n",
    "v = 40\n",
    "print(type(v))\n",
    "print('The value of v is', v)"
   ]
  },
  {
   "cell_type": "markdown",
   "metadata": {},
   "source": [
    "OK, lots of new things going on in this little code snippet. The first line is a **comment**: in Python, anything that is preceeded by the # symbol is considered a comment and, therefore, ignored. Adding comments to code is very useful: **ALWAYS comment your code generously!**\n",
    "\n",
    "In the second line of code we create a variable `v` and assign to it the value 40, so it automatically becomes an `int`. In the third line we print this type to make sure that it is, indeed, and `int`, and in the fourth we print the value of `v`.\n",
    "\n",
    "Note that, compared to other programming languages, Python is less structured. For example, as we have seen, you do not need to define variables and can even change the type of a variable. Also, notice that we do not need to specify the end of a line (in `C`, for example, all lines must end with `;`). This is good in some situations but it forces you to be extra-careful with format in others. We will see some examples when we discuss flow control below."
   ]
  },
  {
   "cell_type": "markdown",
   "metadata": {},
   "source": [
    "# Flow control\n",
    "\n",
    "Python mostly uses the usual flow control statements known from other languages. Let's look at them one by one.\n",
    "\n",
    "## `if` statements\n",
    "\n",
    "Perhaps the most well-known statement type is the `if` statement. For example:"
   ]
  },
  {
   "cell_type": "code",
   "execution_count": 5,
   "metadata": {},
   "outputs": [
    {
     "name": "stdout",
     "output_type": "stream",
     "text": [
      "v is between 10 and 20\n"
     ]
    }
   ],
   "source": [
    "v = 15\n",
    "\n",
    "if v < 10:\n",
    "    print('v is smaller than 10')\n",
    "elif v <= 20:\n",
    "    print('v is between 10 and 20')\n",
    "else:\n",
    "    print('v is larger than 20')"
   ]
  },
  {
   "cell_type": "markdown",
   "metadata": {},
   "source": [
    "In this example, Python evaluates the first comparison and if it is true (that is, if `v`<10) it prints the first output and finishes. If this condition is not fullfilled, then it jumps to the second condition; if this alternative condition is fulfilled, then the program prints the second output and finishes. Finally, if none of the preceding conditions are fulfilled, the program prints the third output and finishes.\n",
    "\n",
    "**Note on indenting!!!!!!!**"
   ]
  },
  {
   "cell_type": "markdown",
   "metadata": {},
   "source": [
    "## `for` statements\n",
    "\n",
    "The for statement in Python differs a bit from what you may be used to in C or other languages. Rather than always iterating over an arithmetic progression of numbers, or giving the user the ability to define both the iteration step and halting condition (as C), Python’s for statement **iterates over the items of any sequence** (for example, a list or a string), in the order that they appear in the sequence. For example (no pun intended):"
   ]
  },
  {
   "cell_type": "code",
   "execution_count": 6,
   "metadata": {},
   "outputs": [
    {
     "name": "stdout",
     "output_type": "stream",
     "text": [
      "dog\n",
      "cat\n",
      "34\n",
      "[1, 2]\n"
     ]
    }
   ],
   "source": [
    "# Iterate over elements in a list\n",
    "for e in ['dog', 'cat', 34, [1, 2]]:\n",
    "    print(e)"
   ]
  },
  {
   "cell_type": "code",
   "execution_count": 15,
   "metadata": {},
   "outputs": [
    {
     "name": "stdout",
     "output_type": "stream",
     "text": [
      "0\n",
      "1\n",
      "2\n",
      "3\n",
      "4\n"
     ]
    }
   ],
   "source": [
    "# Iterate over a sequence of integers. Note that it starts at 0!\n",
    "for i in range(5):\n",
    "    print(i)"
   ]
  },
  {
   "cell_type": "code",
   "execution_count": 7,
   "metadata": {},
   "outputs": [
    {
     "name": "stdout",
     "output_type": "stream",
     "text": [
      "H\n",
      "e\n",
      "l\n",
      "l\n",
      "o\n"
     ]
    }
   ],
   "source": [
    "# Iterate over letters in a string\n",
    "for e in 'Hello':\n",
    "    print(e)"
   ]
  },
  {
   "cell_type": "code",
   "execution_count": 9,
   "metadata": {},
   "outputs": [
    {
     "name": "stdout",
     "output_type": "stream",
     "text": [
      "red\n",
      "blue\n"
     ]
    }
   ],
   "source": [
    "# Iterate over elements in a dictionary. Note that it iterates over the KEYS of the dictionary!\n",
    "for e in {'red' : 'vermell', 'blue' : 'blau'}:\n",
    "    print(e)"
   ]
  },
  {
   "cell_type": "markdown",
   "metadata": {},
   "source": [
    "## `while` statements\n",
    "\n",
    "`while` statements are a \"mixture\" of `for` and `if` statements. As in `if` statements, a conditions is evaluated; as in `for` statements, the program loops over the lines inside the statement. In this case, the program loops while the condition evaluates to `True`. Let's see an example:"
   ]
  },
  {
   "cell_type": "code",
   "execution_count": 16,
   "metadata": {},
   "outputs": [
    {
     "name": "stdout",
     "output_type": "stream",
     "text": [
      "1\n",
      "2\n",
      "4\n",
      "8\n",
      "16\n",
      "32\n"
     ]
    }
   ],
   "source": [
    "a = 1\n",
    "while a < 50:\n",
    "    print(a)\n",
    "    a = a * 2"
   ]
  },
  {
   "cell_type": "markdown",
   "metadata": {},
   "source": [
    "# Functions "
   ]
  },
  {
   "cell_type": "markdown",
   "metadata": {},
   "source": [
    "# Classes "
   ]
  },
  {
   "cell_type": "markdown",
   "metadata": {},
   "source": [
    "# Python modules "
   ]
  },
  {
   "cell_type": "markdown",
   "metadata": {},
   "source": [
    "## Matplotlib "
   ]
  },
  {
   "cell_type": "markdown",
   "metadata": {},
   "source": [
    "## Pandas "
   ]
  }
 ],
 "metadata": {
  "kernelspec": {
   "display_name": "Python 3",
   "language": "python",
   "name": "python3"
  },
  "language_info": {
   "codemirror_mode": {
    "name": "ipython",
    "version": 3
   },
   "file_extension": ".py",
   "mimetype": "text/x-python",
   "name": "python",
   "nbconvert_exporter": "python",
   "pygments_lexer": "ipython3",
   "version": "3.5.2"
  }
 },
 "nbformat": 4,
 "nbformat_minor": 2
}

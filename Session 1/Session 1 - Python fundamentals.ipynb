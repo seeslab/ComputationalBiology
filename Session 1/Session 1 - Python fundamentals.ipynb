{
 "cells": [
  {
   "cell_type": "markdown",
   "metadata": {},
   "source": [
    "# Why Python\n",
    "\n",
    "Python is probably the most widely used all-purpose programming language in science. Although many people will use other languages for specific applications (e.g. R for statistical analysis), the beauty of Python is that it can be used for anything, from analyzing and comparing genome sequences, to training deep neural networks, producing beautiful interactive graphs, creating web apps, or designing an interface to interact with experimental equipment. Also outside academia, Python is being used more and more; take a look at these Google Trends:\n",
    "\n",
    "![Trends in the use of programming languages](Media/languages.png)\n",
    "\n",
    "For the purpose of this class, Python is useful because there are Python **modules** for all the topics we will be discussing (genomics, proteomics, metabolomics, networks, and machine learning). Additionally, Python is intuitive and well designed, so when your intuition tells you that something should work---well, it typically works.\n",
    "\n",
    "Last but not least, Python allows us to work with **notebooks**. The document you are reading (with an `.ipynb` extension) is a Python notebook. In notebooks, content is organized in **cells**, which may contain text or code. For example, the following cell contains a simple piece of Python code, which can be executed by selecting it and typing `ctrl+Enter`. Let's try it:"
   ]
  },
  {
   "cell_type": "code",
   "execution_count": 2,
   "metadata": {},
   "outputs": [
    {
     "name": "stdout",
     "output_type": "stream",
     "text": [
      "Hello world!\n"
     ]
    }
   ],
   "source": [
    "print('Hello world!')"
   ]
  },
  {
   "cell_type": "markdown",
   "metadata": {},
   "source": [
    "There you go! You may have just run your first Python program! :)\n",
    "\n",
    "Using the bar at the top of this page you can add, delete, move cells, change cell type to make them code or text, and many other things. You can also use the following shortcuts to do things faster:\n",
    "\n",
    "![Notebook shortcuts](Media/jupyter-shortcuts.png)"
   ]
  },
  {
   "cell_type": "markdown",
   "metadata": {},
   "source": [
    "# Types and basic data structures\n",
    "\n",
    "As any other programming language, Python uses some basic types and data structures. For example, some variables in Python are integers, others are floats, or strings, or lists...\n",
    "\n",
    "Unlike most other programming languages, however, in Python the types of variables are not fixed and do not need to be assigned beforehand. Rather, the type of a variable is defined when a value is assigned to it. Let's see how this works"
   ]
  },
  {
   "cell_type": "code",
   "execution_count": 4,
   "metadata": {},
   "outputs": [
    {
     "name": "stdout",
     "output_type": "stream",
     "text": [
      "<class 'int'>\n",
      "The value of v is 40\n"
     ]
    }
   ],
   "source": [
    "# Let's make \"v\" a variable of type int (integer) \n",
    "v = 40\n",
    "print(type(v))\n",
    "print('The value of v is', v)"
   ]
  },
  {
   "cell_type": "markdown",
   "metadata": {},
   "source": [
    "OK, lots of things going on in this little code snippet. The first line is a **comment**: in Python, anything that is preceeded by the # symbol is considered a comment and ignored. Then, in the second line of code we create a variable `v` and assign to it the value 40, so it automatically becomes an `int`. In the third line we print this type to make sure, and in the fourth we print the value of `v`. Note that, compared to other programming languages, Python is less structured: not needing to define variables, and actually being able to change the type of a variable, you may have already noticed how we don't need "
   ]
  },
  {
   "cell_type": "markdown",
   "metadata": {},
   "source": [
    "# Flow control "
   ]
  },
  {
   "cell_type": "markdown",
   "metadata": {},
   "source": [
    "# Functions "
   ]
  },
  {
   "cell_type": "markdown",
   "metadata": {},
   "source": [
    "# Classes "
   ]
  }
 ],
 "metadata": {
  "kernelspec": {
   "display_name": "Python 3",
   "language": "python",
   "name": "python3"
  },
  "language_info": {
   "codemirror_mode": {
    "name": "ipython",
    "version": 3
   },
   "file_extension": ".py",
   "mimetype": "text/x-python",
   "name": "python",
   "nbconvert_exporter": "python",
   "pygments_lexer": "ipython3",
   "version": "3.5.2"
  }
 },
 "nbformat": 4,
 "nbformat_minor": 2
}

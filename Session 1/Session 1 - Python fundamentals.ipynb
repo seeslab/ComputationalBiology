{
 "cells": [
  {
   "cell_type": "markdown",
   "metadata": {},
   "source": [
    "# Why Python\n",
    "\n",
    "Python is probably the most widely used all-purpose programming language in science. Although many people will use other languages for specific applications (e.g. R for statistical analysis), the beauty of Python is that it can be used for anything, from analyzing and comparing genome sequences, to training deep neural networks, producing beautiful interactive graphs, creating web apps, or designing an interface to interact with experimental equipment. Also outside academia, Python is being used more and more; take a look at these Google Trends:\n",
    "\n",
    "![Trends in the use of programming languages](Media/languages.png)\n",
    "\n",
    "For the purpose of this class, Python is useful because there are Python **modules** for all the topics we will be discussing (genomics, proteomics, metabolomics, networks, and machine learning). Additionally, Python is intuitive and well designed, so when your intuition tells you that something should work---well, it typically works.\n",
    "\n"
   ]
  },
  {
   "cell_type": "markdown",
   "metadata": {},
   "source": [
    "## Jupyter notebooks\n",
    "\n",
    "Last but not least, Python allows us to work with **notebooks**. The document you are reading (with an `.ipynb` extension) is a Python notebook. In notebooks, content is organized in **cells**, which may contain text or code. For example, the following cell contains a simple piece of Python code, which can be executed by selecting it and typing `ctrl+Enter`. Let's try it:"
   ]
  },
  {
   "cell_type": "code",
   "execution_count": null,
   "metadata": {},
   "outputs": [],
   "source": [
    "print('Hello world!')"
   ]
  },
  {
   "cell_type": "markdown",
   "metadata": {},
   "source": [
    "There you go! You may have just run your first Python program! :)\n",
    "\n",
    "Using the bar at the top of this page you can add, delete, move cells, change cell type to make them code or text, and many other things. You can also use the following shortcuts to do things faster:\n",
    "\n",
    "![Notebook shortcuts](Media/jupyter-shortcuts.png)"
   ]
  },
  {
   "cell_type": "markdown",
   "metadata": {},
   "source": [
    "# How to complete the practical work\n",
    "\n",
    "Here is how this works. During each session in the lab, you are expected to go through the whole notebook for that session, reading the explanations and executing the code in it. We recommend that, **before executing any piece of code**, you stop to think what is the result that you expect from that code, and then verify that you get what you expected. If you do not get what you expected, stop and think what happened until you understand what is going on. In any case, **you are encouraged to change any of the example pieces of code, and to create new code cells to experiment and learn**.\n",
    "\n",
    "From time to time, you will encounter an exercise in the notebook. Some of these may consist in writing some text, while others (probably most of them) consist in writing some code to make sure that you are keeping pace with the lecture. Additionally, at the end of each session you will find a **Final Exercise, which will carry a significant portion of the grade of the session** (see at the end of the notebook).\n",
    "\n",
    "When you are done with all exercises, save the notebook and upload it (that is the completed `.ipynb` file) to the corresponding session in Moodle.\n",
    "\n",
    "### Exercise\n",
    "\n",
    "In the text cell bellow, type \"I understand what I need to do and this is going to be fun!\""
   ]
  },
  {
   "cell_type": "markdown",
   "metadata": {},
   "source": [
    "*Type your answer here.*"
   ]
  },
  {
   "cell_type": "markdown",
   "metadata": {},
   "source": [
    "# Basic types and data structures in Python\n",
    "\n",
    "As any other programming language, Python uses some basic types and data structures. For example, some variables in Python are integers, others are floats, or strings, or lists...\n",
    "\n",
    "Unlike most other programming languages, however, in Python the types of variables are not fixed and do not need to be assigned beforehand. Rather, the type of a variable is defined when a value is assigned to it. Let's see how this works"
   ]
  },
  {
   "cell_type": "code",
   "execution_count": null,
   "metadata": {},
   "outputs": [],
   "source": [
    "# Let's make \"v\" a variable of type int (integer) \n",
    "v = 40\n",
    "print(type(v))\n",
    "print('The value of v is', v)"
   ]
  },
  {
   "cell_type": "markdown",
   "metadata": {},
   "source": [
    "OK, lots of new things going on in this little code snippet. The first line is a **comment**: in Python, anything preceeded by the `#` symbol is interpreted as a comment and, therefore, ignored. Adding comments to code is very useful: **ALWAYS comment your code generously!** Comments will also help when we grade your work, as it will help us understand what you meant to do, even if what you did is not entirely correct.\n",
    "\n",
    "In the second line of code we create a variable `v` and assign to it the value 40, so it automatically becomes an `int`. In the third line we print this type to make sure that it is, indeed, and `int`, and in the fourth we print the value of `v`.\n",
    "\n",
    "Note that, compared to other programming languages, Python is less structured. For example, as we have seen, you do not need to define variables and can even change the type of a variable in the course of a program (although this is probably a bad idea). Also, notice that we do not need to specify the end of a line (in `C`, for example, all lines must end with `;`). This is good in some ways but it forces you to be extra-careful with format in others. We will see some examples when we discuss flow control below.\n",
    "\n",
    "But, before that, let's take a look at the basic data types in Python. "
   ]
  },
  {
   "cell_type": "markdown",
   "metadata": {},
   "source": [
    "## Numbers\n",
    "\n",
    "As we have seen, Python variables can take numerical values. Numerical values are easy to deal with, and operating with them is as straighforward as one could imagine:"
   ]
  },
  {
   "cell_type": "code",
   "execution_count": null,
   "metadata": {},
   "outputs": [],
   "source": [
    "v1 = 45\n",
    "v2 = 23\n",
    "# Sum\n",
    "print(v1 + v2)\n",
    "# Product\n",
    "print(v1 * 3)\n",
    "# Power 2 (square)\n",
    "print(v2**2)\n",
    "# Division\n",
    "print(v1 / v2)"
   ]
  },
  {
   "cell_type": "markdown",
   "metadata": {},
   "source": [
    "## Strings\n",
    "\n",
    "Besides numbers, Python can also manipulate strings, which can be defined by enclosing any text in single quotes ('...') or in double quotes (\"...\") with the same result. Let's see some examples:"
   ]
  },
  {
   "cell_type": "code",
   "execution_count": null,
   "metadata": {},
   "outputs": [],
   "source": [
    "s1 = \"This is one string\"\n",
    "print(s1)"
   ]
  },
  {
   "cell_type": "markdown",
   "metadata": {},
   "source": [
    "Strings can be concatenated (glued together) with the + operator, and repeated with *:"
   ]
  },
  {
   "cell_type": "code",
   "execution_count": null,
   "metadata": {},
   "outputs": [],
   "source": [
    "s2 = 'This is another string'\n",
    "print(s1 + s2)\n",
    "print(s1 * 3)"
   ]
  },
  {
   "cell_type": "markdown",
   "metadata": {},
   "source": [
    "Strings can be indexed, that is, accessed by position, with the first character having index 0. For example:"
   ]
  },
  {
   "cell_type": "code",
   "execution_count": null,
   "metadata": {},
   "outputs": [],
   "source": [
    "# Print the 1st, and the 3rd character of the string s1 defined above\n",
    "print(s1[0])\n",
    "print(s1[2])"
   ]
  },
  {
   "cell_type": "markdown",
   "metadata": {},
   "source": [
    "In addition to indexing, *slicing* is also supported. While indexing is used to obtain individual characters, slicing allows you to obtain substring:"
   ]
  },
  {
   "cell_type": "code",
   "execution_count": null,
   "metadata": {},
   "outputs": [],
   "source": [
    "# Print characters 2 to 6 (not included) of the string s1 defined above\n",
    "print(s1[2: 10])"
   ]
  },
  {
   "cell_type": "markdown",
   "metadata": {},
   "source": [
    "The built-in function len() returns the length of a string, that is, the number of characters in it:"
   ]
  },
  {
   "cell_type": "code",
   "execution_count": null,
   "metadata": {},
   "outputs": [],
   "source": [
    "print(len(s1))"
   ]
  },
  {
   "cell_type": "markdown",
   "metadata": {},
   "source": [
    "Another very useful method for strings is `.split()`, which takes a string and breaks it into pieces every time it encounters a space:"
   ]
  },
  {
   "cell_type": "code",
   "execution_count": null,
   "metadata": {},
   "outputs": [],
   "source": [
    "s1.split()"
   ]
  },
  {
   "cell_type": "markdown",
   "metadata": {},
   "source": [
    "The resulting object is a `list`... but, hold on a second, we have not seen lists yet!"
   ]
  },
  {
   "cell_type": "markdown",
   "metadata": {},
   "source": [
    "## Lists\n",
    "\n",
    "Python knows a number of compound data types, used to group together other values. The most versatile is the list, which can be written as a list of comma-separated values (items) between square brackets `[]`. Lists might contain items of different types, but usually the items all have the same type."
   ]
  },
  {
   "cell_type": "code",
   "execution_count": null,
   "metadata": {},
   "outputs": [],
   "source": [
    "squares = [1, 4, 9, 16, 25]\n",
    "squares"
   ]
  },
  {
   "cell_type": "markdown",
   "metadata": {},
   "source": [
    "Like strings (and all other built-in sequence types), lists can be *indexed* and *sliced*. By indexing, we mean that an element of a list can be accessed by its position in the list:"
   ]
  },
  {
   "cell_type": "code",
   "execution_count": null,
   "metadata": {},
   "outputs": [],
   "source": [
    "print(squares[0])\n",
    "print(squares[2])"
   ]
  },
  {
   "cell_type": "markdown",
   "metadata": {},
   "source": [
    "By slicing, we mean that several elements of a list can be accessed together. A slice is a *sublist* of the original list:"
   ]
  },
  {
   "cell_type": "code",
   "execution_count": null,
   "metadata": {},
   "outputs": [],
   "source": [
    "# Slice the list from element 0 to element 3 (not included in the slice)\n",
    "print(squares[0:3])"
   ]
  },
  {
   "cell_type": "markdown",
   "metadata": {},
   "source": [
    "Lists also support operations like concatenation:"
   ]
  },
  {
   "cell_type": "code",
   "execution_count": null,
   "metadata": {},
   "outputs": [],
   "source": [
    "print(squares + [36, 49, 64, 81, 100])"
   ]
  },
  {
   "cell_type": "markdown",
   "metadata": {},
   "source": [
    "Unlike strings, lists are a mutable type, that is, it is possible to change their content:"
   ]
  },
  {
   "cell_type": "code",
   "execution_count": null,
   "metadata": {},
   "outputs": [],
   "source": [
    "cubes = [1, 8, 27, 65, 125]  # something's wrong here: the cube of 4 is 64, not 65!\n",
    "cubes[3] = 64  # replace the wrong value\n",
    "print(cubes)"
   ]
  },
  {
   "cell_type": "markdown",
   "metadata": {},
   "source": [
    "Similar to strings, the built-in function `len()` also applies to lists:"
   ]
  },
  {
   "cell_type": "code",
   "execution_count": null,
   "metadata": {},
   "outputs": [],
   "source": [
    "print(len(cubes))"
   ]
  },
  {
   "cell_type": "markdown",
   "metadata": {},
   "source": [
    "Note that it is possible to nest lists (create lists containing other lists), for example:"
   ]
  },
  {
   "cell_type": "code",
   "execution_count": null,
   "metadata": {},
   "outputs": [],
   "source": [
    "l1 = ['a', 'b', 'c']\n",
    "l2 = [1, 2, 3]\n",
    "lol = [l1, l2]\n",
    "print(lol)\n",
    "print(lol[0])\n",
    "print(lol[0][1])"
   ]
  },
  {
   "cell_type": "markdown",
   "metadata": {},
   "source": [
    "### Exercise\n",
    "\n",
    "Create a list containing the 6 first prime numbers. Then print the slice containing elements 2 to 5 (not included)."
   ]
  },
  {
   "cell_type": "code",
   "execution_count": null,
   "metadata": {},
   "outputs": [],
   "source": [
    "# Write your code here"
   ]
  },
  {
   "cell_type": "markdown",
   "metadata": {},
   "source": [
    "### Exercise\n",
    "\n",
    "Build a string with your name and surname(s). Then split it and count the number of characters in each of the resulting \"words\"."
   ]
  },
  {
   "cell_type": "code",
   "execution_count": null,
   "metadata": {},
   "outputs": [],
   "source": [
    "# Write your code here"
   ]
  },
  {
   "cell_type": "markdown",
   "metadata": {},
   "source": [
    "# Flow control in Python\n",
    "\n",
    "Python mostly uses the usual flow control statements known from other languages. Let's look at them one by one.\n",
    "\n",
    "## `if` statements\n",
    "\n",
    "Perhaps the most well-known statement type is the `if` statement. For example:"
   ]
  },
  {
   "cell_type": "code",
   "execution_count": null,
   "metadata": {},
   "outputs": [],
   "source": [
    "v = 15\n",
    "\n",
    "if v < 10:\n",
    "    print('v is smaller than 10')\n",
    "elif v <= 20:\n",
    "    print('v is between 10 and 20')\n",
    "else:\n",
    "    print('v is larger than 20')"
   ]
  },
  {
   "cell_type": "markdown",
   "metadata": {},
   "source": [
    "In this example, Python evaluates the first comparison and if it is true (that is, if `v`<10) it prints the first output and finishes. If this condition is not fullfilled, then it jumps to the second condition; if this alternative condition is fulfilled, then the program prints the second output and finishes. Finally, if none of the preceding conditions are fulfilled, the program prints the third output and finishes.\n",
    "\n",
    "Going back to the issue of Python not being a very structured programming language, **note that indenting becomes very important in flow control**. In the case of `if` statements, all lines that are executed if a given condition is fulfilled need to be indented, typically by 4 spaces (although in notebooks you can just press `Tab` to indent a line). This is unlike most other languages. For example, in `C` lines to be executed conditionally need to be enclosed in `{}`. Python does not require that but, if the indentation is not correct, it will raise an error:"
   ]
  },
  {
   "cell_type": "code",
   "execution_count": null,
   "metadata": {},
   "outputs": [],
   "source": [
    "v = 15\n",
    "\n",
    "if v < 10:\n",
    "print('v is smaller than 10')"
   ]
  },
  {
   "cell_type": "markdown",
   "metadata": {},
   "source": [
    "Here is a complete list of comparison, logical, identity and membership operators that one can use in `if` and other flow control statements:\n",
    "![Python coparison, logical, identity and membership operators](Media/operators.png)"
   ]
  },
  {
   "cell_type": "markdown",
   "metadata": {},
   "source": [
    "## `for` statements\n",
    "\n",
    "The for statement in Python differs a bit from what you may be used to in C or other languages. Rather than always iterating over an arithmetic progression of numbers, or giving the user the ability to define both the iteration step and halting condition (as C), Python’s for statement **iterates over the items of any sequence** (for example, a list or a string), in the order that they appear in the sequence. For example (no pun intended):"
   ]
  },
  {
   "cell_type": "code",
   "execution_count": null,
   "metadata": {},
   "outputs": [],
   "source": [
    "# Iterate over elements in a list\n",
    "for e in ['dog', 'cat', 34, [1, 2]]:\n",
    "    print(e)"
   ]
  },
  {
   "cell_type": "code",
   "execution_count": null,
   "metadata": {},
   "outputs": [],
   "source": [
    "# Iterate over a sequence of integers. Note that it starts at 0!\n",
    "for i in range(5):\n",
    "    print(i)"
   ]
  },
  {
   "cell_type": "code",
   "execution_count": null,
   "metadata": {},
   "outputs": [],
   "source": [
    "# Iterate over letters in a string\n",
    "for e in 'Hello':\n",
    "    print(e)"
   ]
  },
  {
   "cell_type": "markdown",
   "metadata": {},
   "source": [
    "### Exercise\n",
    "\n",
    "Consider the following text:"
   ]
  },
  {
   "cell_type": "code",
   "execution_count": null,
   "metadata": {},
   "outputs": [],
   "source": [
    "text = \"Lorem ipsum dolor sit amet, consectetur adipiscing elit. Pellentesque a maximus tortor, eu dictum risus. Morbi sit amet ornare purus. Nullam viverra euismod commodo. Sed dapibus sodales ante id lacinia. Maecenas porta diam vel libero consectetur auctor. Cras facilisis laoreet ligula a rutrum. Donec ac molestie felis, in lacinia dolor. Nunc pellentesque odio sit amet pulvinar dictum. Nullam ligula tortor, consectetur pretium ex a, pharetra porta odio. Cras consequat, turpis at aliquam egestas, orci purus fermentum libero, ac aliquam dui nisl vel ex. Ut molestie tempor neque, eu vehicula sem luctus eu. Vestibulum ac tincidunt odio. Phasellus lacus enim, lobortis.\""
   ]
  },
  {
   "cell_type": "markdown",
   "metadata": {},
   "source": [
    "Now, write a piece of code that looks for the words 'sit' and 'Caesar' in this text. In each case, if it finds the word, the program should count and print the number of times the word appears in the text; otherwise, the program should print a sentence indicating that the word was not found:"
   ]
  },
  {
   "cell_type": "code",
   "execution_count": null,
   "metadata": {},
   "outputs": [],
   "source": [
    "# Write your code here"
   ]
  },
  {
   "cell_type": "markdown",
   "metadata": {},
   "source": [
    "## `while` statements\n",
    "\n",
    "`while` statements are a \"mixture\" of `for` and `if` statements. As in `if` statements, a conditions is evaluated; as in `for` statements, the program loops over the lines inside the statement. In this case, the program loops while the condition evaluates to `True`. Let's see an example:"
   ]
  },
  {
   "cell_type": "code",
   "execution_count": null,
   "metadata": {},
   "outputs": [],
   "source": [
    "a = 1\n",
    "while a < 50:\n",
    "    print(a)\n",
    "    a = a * 2"
   ]
  },
  {
   "cell_type": "markdown",
   "metadata": {},
   "source": [
    "# Functions\n",
    "\n",
    "So far, we have only dealt with very simple pieces of code. Often, however, we need to write much more complex programs. Then, it becomes absolutely necessary (mandatory in this class!) to encapsulate pieces of code into **functions**, especially if these pieces of code will be used repeatedly. Python functions are, in this sense, similar to funtions in `C`, `Java` or most other programming languages. Let's start by defining a simple function that calculates the factorial of an integer n:"
   ]
  },
  {
   "cell_type": "code",
   "execution_count": null,
   "metadata": {},
   "outputs": [],
   "source": [
    "def factorial(n):\n",
    "    result = 1\n",
    "    for number in range(n):\n",
    "        result = result * (number + 1)\n",
    "    return result"
   ]
  },
  {
   "cell_type": "markdown",
   "metadata": {},
   "source": [
    "It seems that nothing happened, but this code defines a new function `factorial`. From now on, we can use the function `factorial` to calculate the factorial of any number we want. To do this, we just need to **call** the function:"
   ]
  },
  {
   "cell_type": "code",
   "execution_count": null,
   "metadata": {},
   "outputs": [],
   "source": [
    "factorial(4)"
   ]
  },
  {
   "cell_type": "markdown",
   "metadata": {},
   "source": [
    "So what just happened? When we call the function `factorial` with **argument value** 4, Python executes the operations specified in the definition of the function, using the assignment n=4. Inside the function, it creates a variable `result` and assigns to it a value of 1; then it keeps multiplyng all the integers to `result` until it reaches n (4, in this case). After this, Python exits the `for` loop and **returns** the value of result, in this case 24. The beauty of functions, of course, is that they can be used as many times as desired without having to repeat the code every time:"
   ]
  },
  {
   "cell_type": "code",
   "execution_count": null,
   "metadata": {},
   "outputs": [],
   "source": [
    "print(factorial(10))\n",
    "print(factorial(20))"
   ]
  },
  {
   "cell_type": "markdown",
   "metadata": {},
   "source": [
    "The factorial function only takes one argument, n. Other functions, however, many need several arguments to work. Consider, for example, the following function `power(x, exponent)`, which calculates $x^{exponent}$: "
   ]
  },
  {
   "cell_type": "code",
   "execution_count": null,
   "metadata": {},
   "outputs": [],
   "source": [
    "def power(x, exponent):\n",
    "    result = 1\n",
    "    for repetition in range(exponent):\n",
    "        result = result * x\n",
    "    return result\n",
    "print(power(10, 5))"
   ]
  },
  {
   "cell_type": "markdown",
   "metadata": {},
   "source": [
    "Now imagine that, most of the times, we are interested in calculating the square of `x`, and only from time to time we want to use a different exponent. In that case, we could set a **default value for the argument** `exponent`:"
   ]
  },
  {
   "cell_type": "code",
   "execution_count": null,
   "metadata": {},
   "outputs": [],
   "source": [
    "def powernew(x, exponent=2):\n",
    "    result = 1\n",
    "    for repetition in range(exponent):\n",
    "        result = result * x\n",
    "    return result"
   ]
  },
  {
   "cell_type": "markdown",
   "metadata": {},
   "source": [
    "The new function `powernew` can be called in two different ways. First, it can be called just as the old `power`, that is, specifying the values of `x` and `exponent`, and it will do the exact same thing as `power`:"
   ]
  },
  {
   "cell_type": "code",
   "execution_count": null,
   "metadata": {},
   "outputs": [],
   "source": [
    "powernew(10, 5)"
   ]
  },
  {
   "cell_type": "markdown",
   "metadata": {},
   "source": [
    "Now, additionally, since the function was defined with a default value for `exponent`, it can be called without specifying `exponent`. In this case, it will use the default value `exponent=2`: "
   ]
  },
  {
   "cell_type": "code",
   "execution_count": null,
   "metadata": {},
   "outputs": [],
   "source": [
    "powernew(10)"
   ]
  },
  {
   "cell_type": "markdown",
   "metadata": {},
   "source": [
    "In Python, arguments with default values always need to be after regular arguments. Other than this, one is free to use as many of them as desired. For functions with many arguments, one may want to specify some values and not others. In those cases, it is better to just identify each parameter as follows: "
   ]
  },
  {
   "cell_type": "code",
   "execution_count": null,
   "metadata": {},
   "outputs": [],
   "source": [
    "powernew(10, exponent=3)"
   ]
  },
  {
   "cell_type": "markdown",
   "metadata": {},
   "source": [
    "### Exercise\n",
    "\n",
    "Define a function that takes a string of text as input and counts the number of words in it. Apply it to the same text as before:"
   ]
  },
  {
   "cell_type": "code",
   "execution_count": null,
   "metadata": {},
   "outputs": [],
   "source": [
    "text = \"Lorem ipsum dolor sit amet, consectetur adipiscing elit. Pellentesque a maximus tortor, eu dictum risus. Morbi sit amet ornare purus. Nullam viverra euismod commodo. Sed dapibus sodales ante id lacinia. Maecenas porta diam vel libero consectetur auctor. Cras facilisis laoreet ligula a rutrum. Donec ac molestie felis, in lacinia dolor. Nunc pellentesque odio sit amet pulvinar dictum. Nullam ligula tortor, consectetur pretium ex a, pharetra porta odio. Cras consequat, turpis at aliquam egestas, orci purus fermentum libero, ac aliquam dui nisl vel ex. Ut molestie tempor neque, eu vehicula sem luctus eu. Vestibulum ac tincidunt odio. Phasellus lacus enim, lobortis.\""
   ]
  },
  {
   "cell_type": "code",
   "execution_count": null,
   "metadata": {},
   "outputs": [],
   "source": [
    "# Write your code here"
   ]
  },
  {
   "cell_type": "markdown",
   "metadata": {},
   "source": [
    "# Python modules\n",
    "\n",
    "One of the strongest points of Python is that there is much code already written, for doing all sorts of things from parsing text or making plots, to comparing genomes and implementing machine learning algorithms. These extensions to basic Python functionality are called *modules*. Basically, each of the following practical sessions we will be learning about one particular Python module. Here, we introduce some modules that are generally useful for dealing with data."
   ]
  },
  {
   "cell_type": "markdown",
   "metadata": {},
   "source": [
    "## Pandas\n",
    "\n",
    "Pandas is a Python module that allows you to work with objects that resemble Excel spreedsheets or, if you wish, `R` data frames. Let's start by importing Pandas:"
   ]
  },
  {
   "cell_type": "code",
   "execution_count": null,
   "metadata": {},
   "outputs": [],
   "source": [
    "import pandas as pd"
   ]
  },
  {
   "cell_type": "markdown",
   "metadata": {},
   "source": [
    "This command imports the `pandas` module and renames it as `pd`. From this point on, whenever we want to use a `pandas` method or data structure we just need to write `pd.your_whatever`. Renaming `pandas` to `pd` is not necessary (that is, you can just do `import pandas` and then `pandas.your_whatever` whenever you need to), but renaming to `pd` saves a lot of typing when writing long programs.\n",
    "\n",
    "The basic Pandas data type is the `DataFrame`, which, again, can be though of as an Excel spreadsheet or an `R` data frame. A `DataFrame` can be created in many different ways: let's start by creating a `DataFrame` from dictionary:"
   ]
  },
  {
   "cell_type": "code",
   "execution_count": null,
   "metadata": {},
   "outputs": [],
   "source": [
    "names = ['Harry', 'Hermione', 'Ron', 'Luna']\n",
    "colleges = ['Gryffindor', 'Gryffindor', 'Gryffindor', 'Ravenclaw']\n",
    "ages = [15, 15, 15, 14]\n",
    "genders = ['male', 'female', 'male', 'female']\n",
    "data_dict = {'name' : names, 'college' : colleges, 'age' : ages, 'gender' : genders}\n",
    "df = pd.DataFrame(data_dict)\n",
    "display(df)"
   ]
  },
  {
   "cell_type": "markdown",
   "metadata": {},
   "source": [
    "There you go. When you create a Pandas `DataFrame` from a dictionary whose values are lists of the same size, dictionary keys become column titles and the lists become the columns themselves. `DataFrame`objects are useful, among other things, because we can easily filter and extract partial information from them. Let's see some examples, from simple to complex: "
   ]
  },
  {
   "cell_type": "code",
   "execution_count": null,
   "metadata": {},
   "outputs": [],
   "source": [
    "# Extract some rows\n",
    "df.iloc[1:3]"
   ]
  },
  {
   "cell_type": "code",
   "execution_count": null,
   "metadata": {},
   "outputs": [],
   "source": [
    "# Extract some columns\n",
    "df[['name', 'age']]"
   ]
  },
  {
   "cell_type": "code",
   "execution_count": null,
   "metadata": {},
   "outputs": [],
   "source": [
    "# Extract rows according to a simple condition\n",
    "display(df[df['age'] <= 14])\n",
    "display(df[df['college'] == 'Gryffindor'])\n",
    "display(df[df['gender'] == 'female'])"
   ]
  },
  {
   "cell_type": "markdown",
   "metadata": {},
   "source": [
    "Filterning Pandas data frames with more complex searches involving multiple conditions is a bit confusing at first, because the syntax for the comparisons is not the same as in Python in general. For example, in regular Python if you wanted combine conditions `c1` and `c2` with an `and` operator you would write `c1 and c2`; however, within a Pandas filtering statement, you would need to write `(c1) & (c2)`. Similarly, instead of `or` you need to use `|`. Let's see a couple of examples: "
   ]
  },
  {
   "cell_type": "code",
   "execution_count": null,
   "metadata": {},
   "outputs": [],
   "source": [
    "# Extract rows with more complex conditions\n",
    "display(df[(df['age'] > 14) & (df['gender'] == 'female')])\n",
    "display(df[(df['age'] > 14) | (df['gender'] == 'female')])"
   ]
  },
  {
   "cell_type": "markdown",
   "metadata": {},
   "source": [
    "\n",
    "To learn more about complex filtering conditions, take a look at [this tutorial](https://www.ritchieng.com/pandas-multi-criteria-filtering/)."
   ]
  },
  {
   "cell_type": "markdown",
   "metadata": {},
   "source": [
    "### Obtaining column statistics\n",
    "\n",
    "Once our information is stored in a Pandas `DataFrame` it is really easy to get statistics for its columns. For example:"
   ]
  },
  {
   "cell_type": "code",
   "execution_count": null,
   "metadata": {},
   "outputs": [],
   "source": [
    "# Print the mean and the standard deviation of a column\n",
    "print(df['age'].mean(), df['age'].std())"
   ]
  },
  {
   "cell_type": "markdown",
   "metadata": {},
   "source": [
    "### Exercise\n",
    "\n",
    "Try to obtain the mean of the `name` column and explain what happens."
   ]
  },
  {
   "cell_type": "code",
   "execution_count": null,
   "metadata": {},
   "outputs": [],
   "source": [
    "# Write your code here"
   ]
  },
  {
   "cell_type": "markdown",
   "metadata": {},
   "source": [
    "*Here, explain what happened.*"
   ]
  },
  {
   "cell_type": "markdown",
   "metadata": {},
   "source": [
    "### Writing and reading files in Pandas\n",
    "\n",
    "Another convenient feature of Pandas is that it allows you to easily read/write data from/to files, including Excel (or Excel-like) files. Let's first take a look at how to save the `DataFrame` we just created into an Excel file:"
   ]
  },
  {
   "cell_type": "code",
   "execution_count": null,
   "metadata": {},
   "outputs": [],
   "source": [
    "df.to_excel('Files/test.xls')"
   ]
  },
  {
   "cell_type": "markdown",
   "metadata": {},
   "source": [
    "If you now go to the `Files` directory (folder) you will see that the file `test.xls` has been created, and if you open it you will see that the content is as expected.\n",
    "\n",
    "Of course, we can do the opposite and read an Excel file into a `DataFrame`. Let's now read Excel file we just created into a new `DataFrame` named df2:"
   ]
  },
  {
   "cell_type": "code",
   "execution_count": null,
   "metadata": {},
   "outputs": [],
   "source": [
    "# We specify that the row indices are in the first column with index_col=0\n",
    "df2 = pd.read_excel('Files/test.xls', index_col=0)\n",
    "display(df2)"
   ]
  },
  {
   "cell_type": "markdown",
   "metadata": {},
   "source": [
    "### Exercise\n",
    "\n",
    "Try what happens if you read the same file **without specifiying** that the first column contains the row indices:"
   ]
  },
  {
   "cell_type": "code",
   "execution_count": null,
   "metadata": {},
   "outputs": [],
   "source": [
    "# Write your code here"
   ]
  },
  {
   "cell_type": "markdown",
   "metadata": {},
   "source": [
    "*Here, explain in words what happened.*"
   ]
  },
  {
   "cell_type": "markdown",
   "metadata": {},
   "source": [
    "## Matplotlib\n",
    "\n",
    "[Matplotlib](https://matplotlib.org/) is a powerful Python module for making graphs. Basically, any plot you could ever dream of could be made in Matplotlib (although, of course, some will be very hard). If future sessions we will explore more possibilities of Matplotlib. Here, we just show how to draw the simplex possible XY graph:"
   ]
  },
  {
   "cell_type": "code",
   "execution_count": null,
   "metadata": {},
   "outputs": [],
   "source": [
    "# Import the basic functionalities of Matplotlib\n",
    "import matplotlib.pyplot as plt\n",
    "\n",
    "# Define the x values for our graph\n",
    "x = [0, 1, 2, 3, 4]\n",
    "# Define the y=x*x values\n",
    "y = []\n",
    "for value in x:\n",
    "    y = y + [value * value]\n",
    "print('x:', x)\n",
    "print('y:', y)\n",
    "\n",
    "# Make the plot\n",
    "plt.plot(x, y)\n",
    "plt.show()"
   ]
  },
  {
   "cell_type": "markdown",
   "metadata": {},
   "source": [
    "`.plot()` is a versatile function that takes many parameters. For more details, read the documentation [here](https://matplotlib.org/3.1.1/api/_as_gen/matplotlib.pyplot.plot.html).\n",
    "\n",
    "The `.scatter()` function is similar to `.plot()`, but by default it does not print the lines between the points:"
   ]
  },
  {
   "cell_type": "code",
   "execution_count": null,
   "metadata": {},
   "outputs": [],
   "source": [
    "plt.scatter(x, y)\n",
    "plt.show()"
   ]
  },
  {
   "cell_type": "markdown",
   "metadata": {},
   "source": [
    "Interestingly, Matplotlib can plot lists, as we have just seen, but it can also plot, for example, columns of Pandas data frames! Let's try this:"
   ]
  },
  {
   "cell_type": "code",
   "execution_count": null,
   "metadata": {},
   "outputs": [],
   "source": [
    "plt.plot(df['name'], df['age'])\n",
    "plt.show()"
   ]
  },
  {
   "cell_type": "markdown",
   "metadata": {},
   "source": [
    "### Exercise\n",
    "\n",
    "Using the same values of x as in the previous plots, use `.plot()` and `.scatter()` to plot y=x\\*x\\*x."
   ]
  },
  {
   "cell_type": "code",
   "execution_count": null,
   "metadata": {},
   "outputs": [],
   "source": [
    "# Write your code here"
   ]
  },
  {
   "cell_type": "markdown",
   "metadata": {},
   "source": [
    "# Final exercise (5/10 points)\n",
    "\n",
    "In this final exercise, you will carry out a preliminary characterization of the [Breast Cancer Wisconsin (Diagnostic) Data Set](https://www.kaggle.com/uciml/breast-cancer-wisconsin-data#data.csv). Columns in this data set are computed from a digitized image of a fine needle aspirate (FNA) of a breast mass. Each column describes a characteristic of the cell nuclei present in the image. The data are available from the file `Files/breast_cancer_kaggle.xls`.\n",
    "\n",
    "Use a different code cell for each of the following tasks:\n",
    "\n",
    "1. Load the Breast Cancer Data into a Pandas DataFrame, and display the DataFrame (or, even better, the first few lines of the DataFrame using the `.head()` method).\n",
    "2. Calculate (with a program, of course) the number of \"malignant\" and \"benignant\" cases in the data set.\n",
    "3. Obtain a list of all columns in the dataset, other than \"id\" and \"diagnosis\".\n",
    "4. Calculate the minimum, the maximum, the mean, and the standard deviation of each of the columns you obtained in 3.\n",
    "5. Calculate the mean and standard deviation of each column but only for \"malignant\" and only for \"benignant\" samples separately (that is, filtering the dataframe by the value in the diagnosis column).\n",
    "6. For each column, plot the values in that column against the diagnosis (for example, the radius_mean against the diagnosis). For **extra credit**, take a look at the [Seaborn module for Python](https://seaborn.pydata.org/) and use `seaborn.boxplot()` or `seaborn.violinplot()` instead of `plt.plot()`.\n",
    "7. Based on the results of 5 and 6, choose two columns that you think are good candidates to distinguish between benign and malignant breast cancers. Justify your answer. "
   ]
  },
  {
   "cell_type": "code",
   "execution_count": null,
   "metadata": {},
   "outputs": [],
   "source": [
    "# Answer 1"
   ]
  },
  {
   "cell_type": "code",
   "execution_count": null,
   "metadata": {},
   "outputs": [],
   "source": [
    "# Answer 2"
   ]
  },
  {
   "cell_type": "code",
   "execution_count": null,
   "metadata": {},
   "outputs": [],
   "source": [
    "# Answer 3"
   ]
  },
  {
   "cell_type": "code",
   "execution_count": null,
   "metadata": {},
   "outputs": [],
   "source": [
    "# Answer 4"
   ]
  },
  {
   "cell_type": "code",
   "execution_count": null,
   "metadata": {},
   "outputs": [],
   "source": [
    "# Answer 5"
   ]
  },
  {
   "cell_type": "code",
   "execution_count": null,
   "metadata": {},
   "outputs": [],
   "source": [
    "# Answer 6"
   ]
  },
  {
   "cell_type": "markdown",
   "metadata": {},
   "source": [
    "*Write answer 7 here.*"
   ]
  },
  {
   "cell_type": "markdown",
   "metadata": {},
   "source": [
    "# Further reading\n",
    "\n",
    "* In forthcoming sessions you will be using several Python modules to address specific problems related to genomics, proteomics, and so on. The materials in this first session are designed to get you up to speed with Python but, of course, the more fluent you are with this language the better. Therefore, it is **strongly recommended** that you take a tour at the official [Python Tutorial](https://docs.python.org/3/tutorial/)."
   ]
  }
 ],
 "metadata": {
  "kernelspec": {
   "display_name": "Python 3",
   "language": "python",
   "name": "python3"
  },
  "language_info": {
   "codemirror_mode": {
    "name": "ipython",
    "version": 3
   },
   "file_extension": ".py",
   "mimetype": "text/x-python",
   "name": "python",
   "nbconvert_exporter": "python",
   "pygments_lexer": "ipython3",
   "version": "3.8.1"
  }
 },
 "nbformat": 4,
 "nbformat_minor": 2
}

{
 "cells": [
  {
   "cell_type": "markdown",
   "metadata": {},
   "source": [
    "# Today's session\n",
    "\n",
    "In today's session, we will get to use some of the genomics tools that were introduced in the theoretical lectures. In particular, we will see how to work with (mostly nucleotide) sequences, align them, and so on. To do this, we will be using `Biopyton`, a comprehensive Python module that allows you to do these and many other things. For a complete tour of `Biopython`, take a look at the [complete tutorial](http://biopython.org/DIST/docs/tutorial/Tutorial.html).\n",
    "\n",
    "In the final exercise for this class you will be working on the following case study:\n",
    "\n",
    ">A few days ago, a patient was admitted to the hospital where you work. The patient was coughing, and had difficulty breathing, as well as a fever---she is suspected to have COVID-19. Your colleagues Oscar and Maria, from the Omics platform at the hospital, have been able to isolate a viral genome from the patient. Here, you are expected to verify that the genome corresponds to the SARS-CoV-2 virus, and to investigate which variant of the virus has infected the patient by studying the mutations in the spike protein.\n",
    "\n",
    "# What is Biopython?\n",
    "\n",
    "The Biopython Project is an international association of developers of freely available Python tools for computational molecular biology.\n",
    "\n",
    "![Biopython](Media/biopython_logo.png)\n",
    "\n",
    "\n",
    "The main Biopython releases have lots of functionalities, including:\n",
    "\n",
    "* The ability to parse bioinformatics files into Python utilizable data structures, including support for the following formats:\n",
    "    - Blast output – both from standalone and WWW Blast\n",
    "    - Clustalw\n",
    "    - FASTA\n",
    "    - GenBank\n",
    "    - PubMed and Medline\n",
    "    - ExPASy files, like Enzyme and Prosite\n",
    "    - SCOP, including ‘dom’ and ‘lin’ files\n",
    "    - UniGene\n",
    "    - SwissProt \n",
    "* Files in the supported formats can be iterated over record by record or indexed and accessed via a Dictionary interface.\n",
    "* Code to deal with popular on-line bioinformatics destinations such as:\n",
    "    - NCBI – Blast, Entrez and PubMed services\n",
    "    - ExPASy – Swiss-Prot and Prosite entries, as well as Prosite searches \n",
    "* Interfaces to common bioinformatics programs such as:\n",
    "    - Standalone Blast from NCBI\n",
    "    - Clustalw alignment program\n",
    "    - EMBOSS command line tools \n",
    "* A standard sequence class that deals with sequences, ids on sequences, and sequence features.\n",
    "* Tools for performing common operations on sequences, such as translation, transcription and weight calculations.\n",
    "* Code for dealing with alignments, including a standard way to create and deal with substitution matrices.\n",
    "* Code making it easy to split up parallelizable tasks into separate processes.\n",
    "* GUI-based programs to do basic sequence manipulations, translations, BLASTing, etc.\n",
    "* Extensive documentation and help with using the modules, including the tutorial, on-line wiki documentation, the web site, and the mailing list.\n",
    "* Integration with BioSQL, a sequence database schema also supported by the BioPerl and BioJava projects."
   ]
  },
  {
   "cell_type": "markdown",
   "metadata": {},
   "source": [
    "# Sequences in `Biopython`\n",
    "\n",
    "We will start with a quick introduction to the `Biopython` class for dealing with sequences. Most of the time, when we think of sequences what we have in my mind is a string of letters like 'AGTACACTGGT'. In `Biopython` you can create a `Seq` instance from such a sequence as follows:"
   ]
  },
  {
   "cell_type": "code",
   "execution_count": null,
   "metadata": {},
   "outputs": [],
   "source": [
    "from Bio.Seq import Seq\n",
    "\n",
    "my_seq = Seq(\"AGTACACTGGT\")\n",
    "display(my_seq)"
   ]
  },
  {
   "cell_type": "markdown",
   "metadata": {},
   "source": [
    "## Transcription and  translation\n",
    "\n",
    "So, in the example above we are dealing with a DNA sequence. Since this is a DNA sequence, we can do things with this sequence that we could not do with a sequence of aminoacids. For example, assuming that the `coding_dna` sequence corresponds to the 5'-to-3′ strand of the DNA, we can obtain the corresponding 5'-to-3' complementary strand:"
   ]
  },
  {
   "cell_type": "code",
   "execution_count": null,
   "metadata": {},
   "outputs": [],
   "source": [
    "coding_dna = Seq(\"ATGGCCATTGTAATGGGCCGCTGAAAGGGTGCCCGATAG\")\n",
    "display(coding_dna.reverse_complement())"
   ]
  },
  {
   "cell_type": "markdown",
   "metadata": {},
   "source": [
    "Or, we can **transcribe** this DNA sequence into an RNA sequence:"
   ]
  },
  {
   "cell_type": "code",
   "execution_count": null,
   "metadata": {},
   "outputs": [],
   "source": [
    "messenger_rna = coding_dna.transcribe()\n",
    "display(messenger_rna)"
   ]
  },
  {
   "cell_type": "markdown",
   "metadata": {},
   "source": [
    "Translation is a bit tricker, because codons are translated differently in different organisms and even different cellular compartments. Here is what happens if we translate and RNA sequence without any parameters:"
   ]
  },
  {
   "cell_type": "code",
   "execution_count": null,
   "metadata": {},
   "outputs": [],
   "source": [
    "messenger_rna.translate()"
   ]
  },
  {
   "cell_type": "markdown",
   "metadata": {},
   "source": [
    "You should notice in the above protein sequence that, in addition to the end stop character `*`, there is an internal stop as well. This was a deliberate choice of example, as it gives an excuse to talk about some optional arguments, including different translation tables (genetic codes).\n",
    "\n",
    "The translation tables available in Biopython are based on those from [the NCBI](https://www.ncbi.nlm.nih.gov/Taxonomy/Utils/wprintgc.cgi). By default, translation will use the standard genetic code (NCBI table id 1). But suppose we are dealing with a mitochondrial sequence---we need to tell the translation function to use the relevant genetic code instead:"
   ]
  },
  {
   "cell_type": "code",
   "execution_count": null,
   "metadata": {},
   "outputs": [],
   "source": [
    "messenger_rna.translate(table=\"Vertebrate Mitochondrial\")"
   ]
  },
  {
   "cell_type": "markdown",
   "metadata": {},
   "source": [
    "## Otherwise, sequences are similar to strings\n",
    "\n",
    "Other than the situations described above, most of the time `Seq` instances can be dealt with just like strings. For example, we can extract the elements of a sequence using indices, or slice a sequence as we would slice a string: "
   ]
  },
  {
   "cell_type": "code",
   "execution_count": null,
   "metadata": {},
   "outputs": [],
   "source": [
    "# Seq instances work, mostly, as strings\n",
    "my_seq = Seq(\"GATCGATGGGCCTATATAGGATCGAAAATCGC\")\n",
    "display(my_seq[4])\n",
    "display(my_seq[4:12])\n",
    "print('Length of the sequence:      ', len(my_seq))\n",
    "print('Number of As in the sequence:', my_seq.count('A'))"
   ]
  },
  {
   "cell_type": "markdown",
   "metadata": {},
   "source": [
    "# Reading and writing annotated sequence files\n",
    "\n",
    "Typically, we do not want to create `Seq` instances by entering manually the sequence of letters (bases or aminoacids). Rather, we usually want to read a bunch of annotated sequences from a file or from some remote database. By annotated sequence here we mean a sequence to which additional information has been added (for example, about the organism, the positions of coding sequences within the sequence, etc.). Here we will learn how to read (and write) annotated sequences from (and to) files. First, we need to import the input/output functions in `Biopython`:  "
   ]
  },
  {
   "cell_type": "code",
   "execution_count": null,
   "metadata": {},
   "outputs": [],
   "source": [
    "from Bio import SeqIO"
   ]
  },
  {
   "cell_type": "markdown",
   "metadata": {},
   "source": [
    "## Reading GeneBank\n",
    "\n",
    "Now, we are going to read the file `Files/ls_orchid.gb`, which contains several annotated sequences in GeneBank format. But before we read it using `Biopython`..."
   ]
  },
  {
   "cell_type": "markdown",
   "metadata": {},
   "source": [
    "***\n",
    "### Exercise\n",
    "\n",
    "Open the file `Files/ls_orchid.gb` using a text editor such as Notepad or Word. Familiarize yourself with the format of the file. Copy the first complete annotated record in the file and paste it in the cell below. (When you are done, do not press `Ctrl+Enter`; if you do, it is OK, but it will look ugly.)"
   ]
  },
  {
   "cell_type": "markdown",
   "metadata": {},
   "source": [
    "*Write your answer here.*"
   ]
  },
  {
   "cell_type": "markdown",
   "metadata": {},
   "source": [
    "***"
   ]
  },
  {
   "cell_type": "markdown",
   "metadata": {},
   "source": [
    "Now, let's do something similar but using `Biopython` and the `SeqIO.parse()` method:"
   ]
  },
  {
   "cell_type": "code",
   "execution_count": null,
   "metadata": {},
   "outputs": [],
   "source": [
    "# Read the GeneBank file and create a list with the records\n",
    "records = list(SeqIO.parse('Files/ls_orchid.gb', 'genbank'))\n",
    "\n",
    "print('The file comprises', len(records), 'records')"
   ]
  },
  {
   "cell_type": "markdown",
   "metadata": {},
   "source": [
    "Let us now select the first record and print it:"
   ]
  },
  {
   "cell_type": "code",
   "execution_count": null,
   "metadata": {},
   "outputs": [],
   "source": [
    "print(records[0])"
   ]
  },
  {
   "cell_type": "markdown",
   "metadata": {},
   "source": [
    "The `SeqRecord` class that holds annotated sequences has the following attributes:\n",
    "\n",
    "**.seq**\n",
    "– The sequence itself, typically a Seq object.\n",
    "\n",
    "**.id**\n",
    "– The primary ID used to identify the sequence – a string. In most cases this is something like an accession number.\n",
    "\n",
    "**.name**\n",
    "– A “common” name/id for the sequence – a string. In some cases this will be the same as the accession number, but it could also be something else.\n",
    "\n",
    "**.description**\n",
    "– A human-readable description or expressive name for the sequence – a string.\n",
    "\n",
    "**.letter_annotations**\n",
    "– Holds per-letter-annotations using a (restricted) dictionary of additional information about the letters in the sequence. The keys are the name of the information, and the information is contained in the value as a Python sequence (i.e. a list, tuple or string) with the same length as the sequence itself. This is often used for quality scores or secondary structure information.\n",
    "\n",
    "**.annotations**\n",
    "– A dictionary of additional information about the sequence. The keys are the name of the information, and the information is contained in the value. This allows the addition of more “unstructured” information to the sequence.\n",
    "\n",
    "**.features**\n",
    "– A list of SeqFeature objects with more structured information about the features on a sequence (e.g. position of genes on a genome, or domains on a protein sequence).\n",
    "\n",
    "**.dbxrefs** - A list of database cross-references as strings.\n",
    "\n",
    "For example:"
   ]
  },
  {
   "cell_type": "code",
   "execution_count": null,
   "metadata": {},
   "outputs": [],
   "source": [
    "# Print some of the attributes of the first annotated record in the file\n",
    "print('SEQUENCE:', records[0].seq, '\\n')\n",
    "print('SEQUENCE LENGTH:', len(records[0].seq), '\\n')\n",
    "print('FEATURES:\\n')\n",
    "for feature in records[0].features:\n",
    "    print(feature)"
   ]
  },
  {
   "cell_type": "markdown",
   "metadata": {},
   "source": [
    "From the listed features, we see that this record contains a gene (from a species named *Cypripedium irapeanum*) that codes for ribosomal RNA. The gene itself is encoded in bases 380 to 550, and before and after that we have some spacer DNA. \n",
    "\n",
    "***\n",
    "### Exercise\n",
    "\n",
    "Using `Biopython`, select the record **with the longest sequence** in `Files/ls_orchid.gb`, and print its features. Then, explain in words what each feature corresponds to."
   ]
  },
  {
   "cell_type": "code",
   "execution_count": null,
   "metadata": {},
   "outputs": [],
   "source": [
    "# Write your code here"
   ]
  },
  {
   "cell_type": "markdown",
   "metadata": {},
   "source": [
    "*Describe each feature succinctly*"
   ]
  },
  {
   "cell_type": "markdown",
   "metadata": {},
   "source": [
    "***\n",
    "\n",
    "## Reading FASTA\n",
    "\n",
    "Another common file format for sequences is FASTA. As we have seen above, GeneBank annotated records are quite complete. Now compare with the annotation in typical FASTA files:"
   ]
  },
  {
   "cell_type": "code",
   "execution_count": null,
   "metadata": {},
   "outputs": [],
   "source": [
    "# Read the GeneBank file and create a list with the records\n",
    "frecords = list(SeqIO.parse('Files/ls_orchid.fasta', 'fasta'))\n",
    "\n",
    "print('The file comprises', len(frecords), 'records\\n')\n",
    "print(frecords[0])"
   ]
  },
  {
   "cell_type": "markdown",
   "metadata": {},
   "source": [
    "The resulting `SeqRecord` is the same as before, but the annotation is much poorer than in a typical GeneBank file.\n",
    "\n",
    "## Writing annotated sequence files\n",
    "\n",
    "Finally, to write a bunch of annotated sequences to a file we can use the `write()` method. For example, to write the first 5 records of the GeneBank file that we read above to a file named `Files/five_records.fasta` in FASTA format, we need to do:"
   ]
  },
  {
   "cell_type": "code",
   "execution_count": null,
   "metadata": {},
   "outputs": [],
   "source": [
    "SeqIO.write(records[:5], 'Files/five_records.fasta', 'fasta')"
   ]
  },
  {
   "cell_type": "markdown",
   "metadata": {},
   "source": [
    "***\n",
    "\n",
    "### Exercise\n",
    "\n",
    "Using `Biopython`, open the `Files/five_records.fasta` file that you just created and verify that it contains 5 records."
   ]
  },
  {
   "cell_type": "code",
   "execution_count": null,
   "metadata": {},
   "outputs": [],
   "source": [
    "# Write your code here"
   ]
  },
  {
   "cell_type": "markdown",
   "metadata": {},
   "source": [
    "### Exercise\n",
    "\n",
    "Using `Biopython`, write the first 10 records in `records` to a file named `Files/ten_records.gb` in GeneBank format."
   ]
  },
  {
   "cell_type": "code",
   "execution_count": null,
   "metadata": {},
   "outputs": [],
   "source": [
    "# Write your code here"
   ]
  },
  {
   "cell_type": "markdown",
   "metadata": {},
   "source": [
    "***"
   ]
  },
  {
   "cell_type": "markdown",
   "metadata": {},
   "source": [
    "# Getting annotated sequences from online databases\n",
    "\n",
    "We have seen how to read local GeneBank or FASTA files. Therefore, at this point we should be able to go online, manually obtain whatever files we need, and then read them using `Biopython`. However, if we need to get many files this is impractical. Here, we will see how to get annotated sequence files **from online databases directly**, that is, without having to manually download them.\n",
    "\n",
    "`Biopython` provides interfaces for several online databases. Here we will focus on obtaining annotaded records for the [Entrez database](https://www.ncbi.nlm.nih.gov/search/). So, first, we import the Entrez functionalities in `Biopython`."
   ]
  },
  {
   "cell_type": "code",
   "execution_count": null,
   "metadata": {},
   "outputs": [],
   "source": [
    "from Bio import Entrez"
   ]
  },
  {
   "cell_type": "markdown",
   "metadata": {},
   "source": [
    "The `.efetch()` method in `Entrez` allows us to \"fetch\" entries from the database. Let's first see how to use it in practice:"
   ]
  },
  {
   "cell_type": "code",
   "execution_count": null,
   "metadata": {},
   "outputs": [],
   "source": [
    "# First, we need to identify ourselves to Entrez\n",
    "Entrez.email = \"name.surname@urv.cat\" # MODIFY with your actual name and surname!\n",
    "\n",
    "# Fetch one record by its ID (Z78502.1) and store it in a list of SeqRecord instances, which we call entrez_recs\n",
    "with Entrez.efetch(db=\"nucleotide\", id='Z78502.1', rettype=\"gb\", retmode=\"text\") as my_handle:\n",
    "    entrez_recs = list(SeqIO.parse(my_handle, \"genbank\"))\n",
    "\n",
    "# Show some stuff    \n",
    "print(len(entrez_recs), 'record(s) read\\n')\n",
    "print(entrez_recs[0])"
   ]
  },
  {
   "cell_type": "markdown",
   "metadata": {},
   "source": [
    "As illustrated in this example, the `efetch()` method needs several arguments. First, we need to specify which database, within Entrez, are we interested in. In this case, we have specified that we want to work with the `nucleotide` database. Second, we need to pass the ID of the entry we are interested in, in this example Z78502.1. Finally, we need to specify the format of the annotated record ('gb' for GeneBank in this case, but it could be FASTA or others), and the format of the output (text).\n",
    "\n",
    "Importantly, the `.efetch()` method does *not* return a list of `SeqRecord` instances directly. Rather, **`.efetch()` returns a \"handle\"**, which can be understood as **a file that is open for reading**. We stored this handle in the variable `my_handle` and **then parsed with `SeqIO.parse()`**, just as we read annotated sequences from files earlier.\n",
    "\n",
    "We can also get several annotated sequences in a single search as follows:"
   ]
  },
  {
   "cell_type": "code",
   "execution_count": null,
   "metadata": {},
   "outputs": [],
   "source": [
    "# Fetch multiple records by their ID and store them in the entrez_recs list of SeqRecord instances.\n",
    "# Note that the multiples IDs are passed as a single string of comma-separated IDs, rather than a list of IDs.\n",
    "with Entrez.efetch(db=\"nucleotide\", id='AF191665.1, AF191664.1, AF191663.1', rettype=\"gb\", retmode=\"text\") as my_handle:\n",
    "    entrez_recs = list(SeqIO.parse(my_handle, \"genbank\"))\n",
    "print(len(entrez_recs), 'record(s) read\\n')\n",
    "print(entrez_recs[0])"
   ]
  },
  {
   "cell_type": "markdown",
   "metadata": {},
   "source": [
    "OK, this is a good point to introduce a useful Python (not just Biopython!) trick to learn more about a given module, function, class or whatever using the `help()` function. If we want to obtain more information about `.efetch()` (and, similarly, for whatever other method) you can run the following:"
   ]
  },
  {
   "cell_type": "code",
   "execution_count": null,
   "metadata": {
    "scrolled": true
   },
   "outputs": [],
   "source": [
    "help(Entrez.efetch)"
   ]
  },
  {
   "cell_type": "markdown",
   "metadata": {},
   "source": [
    "# Sequence alingnments and BLAST\n",
    "\n",
    "So far, we have learned how to manage sequences and annotated sequences, including reading and writing files and obtaining information from remote databases. Last, we turn to the problem of sequence alignment. We start by considering local and global pairwise alignments (alignments of two sequences), and then turn to sequence search in databases using BLAST.\n",
    "\n",
    "## Pairwise alignments\n",
    "\n",
    "The `Bio.Align.PairwiseAligner` implements the Needleman-Wunsch, Smith-Waterman, Gotoh (three-state), and Waterman-Smith-Beyer global and local pairwise alignment algorithms. Let's see a simple example"
   ]
  },
  {
   "cell_type": "code",
   "execution_count": null,
   "metadata": {
    "scrolled": true
   },
   "outputs": [],
   "source": [
    "# Import Align\n",
    "from Bio import Align\n",
    "\n",
    "# Define the sequences we intend to align\n",
    "seq1 = Seq(\"GAACTAAATTCGTA\")\n",
    "seq2 = Seq(\"GATAAATAGTA\")\n",
    "\n",
    "# Create the pairwise aligner, which you will use to make the alignment\n",
    "aligner = Align.PairwiseAligner()\n",
    "\n",
    "# Align the two sequences\n",
    "alignments = aligner.align(seq1, seq2)\n",
    "\n",
    "# Show results\n",
    "for alignment in alignments:\n",
    "    print('SCORE:', alignment.score)\n",
    "    print(alignment)"
   ]
  },
  {
   "cell_type": "markdown",
   "metadata": {},
   "source": [
    "The aligner object (an instance of the `PairwiseAligner` class) is the \"machine\" that will allow you to do the alignment. When you create a `PairwiseAligner` it takes some default values for things like the algorithm it uses, the scores for match, mismatch, or gap, or whether the alignment is local/global. Below we will learn how to change these default values.\n",
    "\n",
    "After the `PairwiseAligner` has been created, it is just a matter or getting the actual alignments using the `.align()` method. Note that the output of `.align()` is not a single alignment, but a bunch of alignments with high score.\n",
    "\n",
    "***\n",
    "\n",
    "### Exercise\n",
    "\n",
    "Use the `help()` function (as we did for `Entrez.efetch()` above) to learn which are the attributes of the `PairwiseAlignment` class that contain: 1) the algorithm being used by the aligner we just created, 2) the match score, 3) the mismatch score, 4) the gap score, and 5) whether the alignment is local/global. After finding out, write code to print these attributes."
   ]
  },
  {
   "cell_type": "code",
   "execution_count": null,
   "metadata": {},
   "outputs": [],
   "source": [
    "# Use help here"
   ]
  },
  {
   "cell_type": "code",
   "execution_count": null,
   "metadata": {},
   "outputs": [],
   "source": [
    "# Write your code here to print the algorithm, the scores, and whether the alignment is local/global. "
   ]
  },
  {
   "cell_type": "markdown",
   "metadata": {},
   "source": [
    "*** \n",
    "\n",
    "Any of the attributes of the `PairwiseAligner` can be changed once an instance has been created and before actually aligning the sequences. For example, we can change the scores and, of course, we will get (slightly) different alignments: "
   ]
  },
  {
   "cell_type": "code",
   "execution_count": null,
   "metadata": {},
   "outputs": [],
   "source": [
    "# Create the pairwise aligner\n",
    "aligner2 = Align.PairwiseAligner()\n",
    "\n",
    "# Change substitution scores\n",
    "aligner2.match_score = 1.0\n",
    "aligner2.mismatch_score = -2.0\n",
    "aligner2.gap_score = -2.5\n",
    "\n",
    "# Align the two sequences and show results\n",
    "alignments2 = aligner2.align(seq1, seq2)\n",
    "for alignment in alignments2:\n",
    "    print('SCORE:', alignment.score)\n",
    "    print(alignment)"
   ]
  },
  {
   "cell_type": "markdown",
   "metadata": {},
   "source": [
    "## BLAST\n",
    "\n",
    "Pairwise aligments are useful when we are interested in a few sequences, and we want to compare them to each other. However, more frequently we find ourselves with one (or a few) sequence(s) for which we want to find close matches; that is, for which we want to identify similar sequences wherever they are (for example, in other organisms). In those situations, we typically use BLAST or a similar tool. With BLAST, we can compare a target sequence with many other sequences in a reference database and, hopefully, find similar sequences that give us clues about the target sequence.\n",
    "\n",
    "`Biopython` does not have its own implementation of BLAST, but it has an interface that allows you to interact with the BLAST web site automatically. However, we will not introduce this interface here. Instead, let's familiarize ourselves with the BLAST web page. \n",
    "\n",
    "***\n",
    "\n",
    "### Exercise\n",
    "\n",
    "Copy the sequence of the first record in `ls_orchid.fasta`. Then, go to the [BLAST home page](https://blast.ncbi.nlm.nih.gov/Blast.cgi), select the Nucleotide BLAST tool, enter the nucleotide sequence in the corresponding search box, and hit `BLAST`. After a short time, you will get the hits for your sequence, that is, a collection of aligned sequences that are similar to the target sequence you entered.\n",
    "\n",
    "Download the BLAST results in XML format by clicking `Download All` > `XML`. Save the resulting `.xml` file as `Files/my_blast.xml`.\n",
    "\n",
    "Take some time to explore and understand the BLAST results web page in more detail (especially the `Graphic Summary` and the `Distance tree of results`).\n",
    "\n",
    "***\n",
    "\n",
    "### Reading BLAST results\n",
    "\n",
    "Now that we have saved the results of our BLAST search in this `XML` file, we will open and explore it with `Biopython`. For that, we need the `NCBIXML` module:"
   ]
  },
  {
   "cell_type": "code",
   "execution_count": null,
   "metadata": {},
   "outputs": [],
   "source": [
    "from Bio.Blast import NCBIXML"
   ]
  },
  {
   "cell_type": "markdown",
   "metadata": {},
   "source": [
    "Similar to what we did for files containing annotated sequence records, we will need create a 'handle' to the file, and then we will read the hits with `NCBIXML.parse(handle)`:"
   ]
  },
  {
   "cell_type": "code",
   "execution_count": null,
   "metadata": {},
   "outputs": [],
   "source": [
    "with open(\"Files/my_blast.xml\") as handle:\n",
    "    blast_records = list(NCBIXML.parse(handle))\n",
    "print(len(blast_records), 'BLAST record read from the file (1 query => 1 record)')\n",
    "print(len(blast_records[0].alignments), 'alignments for the BLAST record')"
   ]
  },
  {
   "cell_type": "markdown",
   "metadata": {},
   "source": [
    "BLAST records are instances of the `Bio.Blast.Record.Blast` class. Unlike sequences and annotated sequences, these are very complex objects, whose structure is summarized in the following diagram:\n",
    "\n",
    "![UML diagram of the BlastRecord](Media/BlastRecord.png)\n",
    "\n",
    "To summarize, **each record corresponds to one query** (in our case, we only queried one sequence, so we only got one record) and **contains several alignments**, and **each alignment may cotain several high-scoring pairs, or HSPs** (that is, regions within an alignment where there is a good match between the query sequence and the sequence identified as similar in the database). Next, we extract some useful information for each of the alignments in the `Files/my_blast.xml` file that we read above: "
   ]
  },
  {
   "cell_type": "code",
   "execution_count": null,
   "metadata": {},
   "outputs": [],
   "source": [
    "for alignment in blast_records[0].alignments:\n",
    "    for hsp in alignment.hsps:  # HSPs = high-scoring pairs\n",
    "        if hsp.expect < 1e-5:\n",
    "            print(\"\\n****Alignment****\")\n",
    "            print(\"sequence    :\", alignment.title)\n",
    "            print(\"length      :\", alignment.length)\n",
    "            print(\"e value     :\", hsp.expect)\n",
    "            print(\"identities  :\", hsp.identities)\n",
    "            print(\"% identities:\", hsp.identities / alignment.length)\n",
    "            print(hsp.bits)\n",
    "            print(hsp.query[0:75] + \"...\")\n",
    "            print(hsp.match[0:75] + \"...\")\n",
    "            print(hsp.sbjct[0:75] + \"...\")"
   ]
  },
  {
   "cell_type": "markdown",
   "metadata": {},
   "source": [
    "# Final exercise (5/10 points): The misterious virus\n",
    "\n",
    "\n",
    "A few days ago, a patient was admitted to the hospital where you work. The patient was coughing, and had difficulty breathing, as well as a fever---she is suspected to have COVID-19. Your colleagues Oscar and Maria, from the Omics platform at the hospital, have been able to isolate a viral genome from the patient. Here, **you are expected to verify that the genome corresponds to the SARS-CoV-2 virus, and to investigate which variant of the virus has infected the patient**. \n",
    "\n",
    "1. **Open and read genome of the virus** using Biopython. The genome is available as a FASTA file from `Files/patient.fasta`. \n",
    "2. Go to the BLAST [web page](https://blast.ncbi.nlm.nih.gov/Blast.cgi) and **BLAST the sequence manually**. BLAST against the standard nucleotide collections using the best algorithm for the alignment of highly similar sequences. After blasting, obtain, show (as a screenshot), and briefly discuss the **distance tree** of the results. Can you confirm the COVID-19 diagnosis for the patient?\n",
    "3. **Save the BLAST results in a file** named `Files/blast_results.xml`. \n",
    "\n",
    "Now, you will proceed to establish which variant of the virus this is. You will accomplish this by studying the spike protein, which the virus uses to attach to cells and slip inside. We use the spike protein because the UK and the South African variants of the virus have specific mutations in this protein (with respect to the reference genome) that are well described and easy to identify. I encourage you to read [this fantastic article about the UK variant](https://www.nytimes.com/interactive/2021/health/coronavirus-mutations-B117-variant.html), as well as the [Wikipedia entry for the South Africant variant](https://en.wikipedia.org/wiki/501.V2_variant), to better understand your results and to give a more informed answer to the last question. For more information on the effect of mutations of the spike protein in the effect of COVID-19 vaccines, I also recommend [this article](https://www.quantamagazine.org/how-to-understand-covid-19-variants-and-their-effects-on-vaccines-20210225/).\n",
    "\n",
    "4. Open the `Files/blast_results.xml` file using Biopython and **display the alignment with the highest percentage identity to the virus of our patient.** What percentage identity does it have with the query? What does this mean? **Store the accession code** of this genome in a variable called `seqid`.\n",
    "5. Download from Entrez, using Biopython, the whole annotated genome of `seqid`.\n",
    "6. List all the `features` of the genome you just downloaded. Identify and print the feature that contains the virus' **spike protein**, also called **surface glycoprotein** or simply **S protein**.\n",
    "7. From the feature in 6, extract the translated aminoacid sequence for the spike protein.\n",
    "8. Open and read the FASTA file containing the aminoacid sequence of the SARS-CoV-2 spike proteins for the reference, UK and South African variants. The file is available from `Files/s_protein.fasta`.\n",
    "9. Do a **global pairwise alignment** between the aminoacid sequence of the spike protein of your patient (exercise 7) and the spike protein of each of the variants (exercise 8). For the alignment, use the **Needleman-Wunsch algorithm in Biopython**. (Hint: for a more straightforward interpretation of the results, set the `target_internal_open_gap_score` in your `aligner` to -1, so that opening gaps in the alignment gets penalized).\n",
    "10. Which variant of SARS-CoV-2 does your patient have? Discuss your answer based on the mutations you observe in your patient's spike protein (and using the articles referenced above)."
   ]
  },
  {
   "cell_type": "code",
   "execution_count": null,
   "metadata": {},
   "outputs": [],
   "source": [
    "# Question 1 code here"
   ]
  },
  {
   "cell_type": "markdown",
   "metadata": {},
   "source": [
    "![Question 2. Save the screenshot of the distance tree of the alignments as Files/blast_tree.png and, after Ctrl+Enter in this cell, the image should show up here!](Files/blast_tree.png)"
   ]
  },
  {
   "cell_type": "markdown",
   "metadata": {},
   "source": [
    "*Answer to question 2 here*"
   ]
  },
  {
   "cell_type": "code",
   "execution_count": null,
   "metadata": {},
   "outputs": [],
   "source": [
    "# Question 4 code here"
   ]
  },
  {
   "cell_type": "markdown",
   "metadata": {},
   "source": [
    "*Answer to question 4 here*"
   ]
  },
  {
   "cell_type": "code",
   "execution_count": null,
   "metadata": {},
   "outputs": [],
   "source": [
    "# Question 5 code here"
   ]
  },
  {
   "cell_type": "code",
   "execution_count": null,
   "metadata": {},
   "outputs": [],
   "source": [
    "# Question 6 code here"
   ]
  },
  {
   "cell_type": "code",
   "execution_count": null,
   "metadata": {},
   "outputs": [],
   "source": [
    "# Question 7 code here"
   ]
  },
  {
   "cell_type": "code",
   "execution_count": null,
   "metadata": {},
   "outputs": [],
   "source": [
    "# Question 8 code here"
   ]
  },
  {
   "cell_type": "code",
   "execution_count": null,
   "metadata": {},
   "outputs": [],
   "source": [
    "# Question 9 code here"
   ]
  },
  {
   "cell_type": "markdown",
   "metadata": {},
   "source": [
    "*Answer to question 10 here*"
   ]
  }
 ],
 "metadata": {
  "kernelspec": {
   "display_name": "Python 3",
   "language": "python",
   "name": "python3"
  },
  "language_info": {
   "codemirror_mode": {
    "name": "ipython",
    "version": 3
   },
   "file_extension": ".py",
   "mimetype": "text/x-python",
   "name": "python",
   "nbconvert_exporter": "python",
   "pygments_lexer": "ipython3",
   "version": "3.9.2"
  }
 },
 "nbformat": 4,
 "nbformat_minor": 2
}

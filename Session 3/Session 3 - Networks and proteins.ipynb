{
 "cells": [
  {
   "cell_type": "markdown",
   "metadata": {},
   "source": [
    "#  Today's session\n",
    "\n",
    "In today's session, we will be working with networks and, in particular, with protein-protein interacion networks, also called *interactomes*. For this, we will be using two different modules. For **network analysis**, we will be using [NetworkX](https://networkx.github.io/), a Python package for the creation, manipulation, and study of the structure, dynamics, and functions of complex networks. Some of NetworkX features include:\n",
    "\n",
    "- Data structures for graphs, digraphs, and multigraphs\n",
    "- Many standard graph algorithms\n",
    "- Network structure and analysis measures\n",
    "- Generators for classic graphs, random graphs, and synthetic networks\n",
    "- Nodes can be \"anything\" (e.g., text, images, XML records)\n",
    "- Edges can hold arbitrary data (e.g., weights, time-series)\n",
    "\n",
    "For studying **interactomes**, we will be getting data from the [BioGrid database](https://thebiogrid.org/), an interaction repository with data compiled through comprehensive curation efforts. We could, of course, go to BioGrid and gather data manually. But, as usual, if we want to do that repeteadly, we'd rather write some code to do it for us. To automate the task of getting data from BioGrid we will be using the [Orange Bioinformatics](https://pythonhosted.org/Orange-Bioinformatics/index.html) package, wich provides functionality for some elementary tasks in bioinformatics, including getting protein-protein interaction data.\n",
    "\n",
    "In the final exercise we will be investigating the SARS-coronavirus-host interactome, that is, the set of interactions between the proteins of the SARS-CoV-2 virus and human proteins.  "
   ]
  },
  {
   "cell_type": "markdown",
   "metadata": {},
   "source": [
    "# Network analysis with NetworkX\n",
    "\n",
    "Here, we will introduce the basic functionalities of NetworkX for network analysis. For a more complete introduction, you can take a look the the [complete documentation](https://networkx.github.io/).\n",
    "\n",
    "## Creating a graph\n",
    "\n",
    "We start by importing `networkx` and then creating a graph:"
   ]
  },
  {
   "cell_type": "code",
   "execution_count": null,
   "metadata": {},
   "outputs": [],
   "source": [
    "import networkx as nx\n",
    "G = nx.Graph()"
   ]
  },
  {
   "cell_type": "markdown",
   "metadata": {},
   "source": [
    "By definition, a `Graph` is a collection of **nodes** (or **vertices**) along with\n",
    "identified pairs of connected nodes, which we call **edges** or **links**. The graph we just created is an empty graph, that is, it contains no nodes and no edges.\n",
    "\n",
    "***\n",
    "\n",
    "### Interlude: classes in Python\n",
    "\n",
    "Python is an object-oriented programming language, like Java or C++. So far, we have avoided discussing this issue in detail, but now is a good time to stop and be a bit more precise about this.\n",
    "\n",
    "Indeed, most variables in Python are *instances* of classes. For example, the graph `G` we just created is an instance of the `Graph()` class defined by NetworkX. As in any object-oriented programming language, classes have *attributes* (variables that store data for each instance of a class) and *methods* (functions that act on each instance of the class). For example, each `Graph()` instance has an **attribute** `name` that stores a label for the whole graph. To get the value of an attribute in Python, we use `instance_name.atribute_name`, so to get the name of the graph we created we can do"
   ]
  },
  {
   "cell_type": "code",
   "execution_count": null,
   "metadata": {},
   "outputs": [],
   "source": [
    "G.name"
   ]
  },
  {
   "cell_type": "markdown",
   "metadata": {},
   "source": [
    "Because we haven't specified any value for this attribute, it contains and empty string, which is the default value for the `name` attribute. To change the `name` of the graph we can simply do"
   ]
  },
  {
   "cell_type": "code",
   "execution_count": null,
   "metadata": {},
   "outputs": [],
   "source": [
    "G.name = 'My test graph'\n",
    "print(G.name)"
   ]
  },
  {
   "cell_type": "markdown",
   "metadata": {},
   "source": [
    "Alternatively, one can often specify attribute values when the class is instantiated for the first time"
   ]
  },
  {
   "cell_type": "code",
   "execution_count": null,
   "metadata": {},
   "outputs": [],
   "source": [
    "G = nx.Graph(name='Friendships')\n",
    "print(G.name)"
   ]
  },
  {
   "cell_type": "markdown",
   "metadata": {},
   "source": [
    "Similarly, **methods** are invoked like any function using `instance_name.method_name()` (specifying parameters in the parenthesis, if necessary). For example, to count the number of nodes in a network, we can use the `.number_of_nodes()` method:"
   ]
  },
  {
   "cell_type": "code",
   "execution_count": null,
   "metadata": {},
   "outputs": [],
   "source": [
    "G.number_of_nodes()"
   ]
  },
  {
   "cell_type": "markdown",
   "metadata": {},
   "source": [
    "Well, of course---we still don't know how to add nodes and edges, so our graph contains no nodes yet.\n",
    "\n",
    "***\n",
    "\n",
    "### Exercise\n",
    "\n",
    "Use the `help()` function to identify two methods of the `Graph()` class, other than `.number_of_nodes()`."
   ]
  },
  {
   "cell_type": "code",
   "execution_count": null,
   "metadata": {},
   "outputs": [],
   "source": [
    "# Write your code here"
   ]
  },
  {
   "cell_type": "markdown",
   "metadata": {},
   "source": [
    "*Here, write and briefly describe two methods of your choice for the `Graph()` class.*"
   ]
  },
  {
   "cell_type": "markdown",
   "metadata": {},
   "source": [
    "***\n",
    "\n",
    "## Nodes\n",
    "\n",
    "In NetworkX, nodes can\n",
    "be almost anything, for example an integer number, a text string, an image, an XML object, another\n",
    "Graph, a customized node object, etc.\n",
    "\n",
    "The graph `G` can be grown in several ways. To get started, though, we’ll look at simple node additions. You can add one node at a time,"
   ]
  },
  {
   "cell_type": "code",
   "execution_count": null,
   "metadata": {},
   "outputs": [],
   "source": [
    "G.add_node('Alice')\n",
    "print(G.number_of_nodes())"
   ]
  },
  {
   "cell_type": "markdown",
   "metadata": {},
   "source": [
    "or add a list of nodes"
   ]
  },
  {
   "cell_type": "code",
   "execution_count": null,
   "metadata": {},
   "outputs": [],
   "source": [
    "G.add_nodes_from(['Bob', 'Carla'])\n",
    "print(G.number_of_nodes())"
   ]
  },
  {
   "cell_type": "markdown",
   "metadata": {},
   "source": [
    "In fact, with `.add_nodes_from()` we can add nodes from any iterable object, no only a list. And talking about iteration---let's see what happens if we iterate over a graph:"
   ]
  },
  {
   "cell_type": "code",
   "execution_count": null,
   "metadata": {},
   "outputs": [],
   "source": [
    "for whatIsThis in G:\n",
    "    print(whatIsThis)"
   ]
  },
  {
   "cell_type": "markdown",
   "metadata": {},
   "source": [
    "Fantastic! Iteration over a `Graph()` goes over the nodes of the graph! And since, as we just saw, `.add_nodes_from()` can take any iterator as its argument (not just a list), we can easily create a new graph copying the nodes of an existing graph:"
   ]
  },
  {
   "cell_type": "code",
   "execution_count": null,
   "metadata": {},
   "outputs": [],
   "source": [
    "Gcopy = nx.Graph(G)\n",
    "print(Gcopy.nodes)"
   ]
  },
  {
   "cell_type": "markdown",
   "metadata": {},
   "source": [
    "\n",
    "***\n",
    "\n",
    "### Exercise\n",
    "\n",
    "Create a graph named `G40` containing 40 nodes labeled with integers 0 to 39."
   ]
  },
  {
   "cell_type": "code",
   "execution_count": null,
   "metadata": {},
   "outputs": [],
   "source": [
    "# Write your code here"
   ]
  },
  {
   "cell_type": "markdown",
   "metadata": {},
   "source": [
    "***"
   ]
  },
  {
   "cell_type": "markdown",
   "metadata": {},
   "source": [
    "## Edges\n",
    "\n",
    "`G` can also be grown by adding one edge at a time:"
   ]
  },
  {
   "cell_type": "code",
   "execution_count": null,
   "metadata": {},
   "outputs": [],
   "source": [
    "G.add_edge('John', 'Mary')\n",
    "print(G.nodes)\n",
    "print(G.edges)"
   ]
  },
  {
   "cell_type": "markdown",
   "metadata": {},
   "source": [
    "Note that when we add an edge, the edge is created and, if the corresponding nodes do not exist, they are added as well.\n",
    "\n",
    "Just like nodes, we can add a bunch of edges simultaneously, using a list or any iterable object:"
   ]
  },
  {
   "cell_type": "code",
   "execution_count": null,
   "metadata": {},
   "outputs": [],
   "source": [
    "G.add_edges_from([('Alice', 'Bob'), ('Alice', 'Mary'), ('Alice', 'Carla')])\n",
    "print(G.edges)"
   ]
  },
  {
   "cell_type": "markdown",
   "metadata": {},
   "source": [
    "## Drawing graphs\n",
    "\n",
    "NetworkX is *not* primarily a graph drawing package but basic drawing with\n",
    "Matplotlib (as well as an interface to use the open source Graphviz software) are included.  These are part of the `networkx.drawing` module and will\n",
    "be imported if possible.\n",
    "\n",
    "Let's see a simple example of how to display a network with NetworkX. First import Matplotlib’s plot interface:"
   ]
  },
  {
   "cell_type": "code",
   "execution_count": null,
   "metadata": {},
   "outputs": [],
   "source": [
    "import matplotlib.pyplot as plt"
   ]
  },
  {
   "cell_type": "markdown",
   "metadata": {},
   "source": [
    "The simplest way to plot a graph is by using the generic `.draw()` method. Let's plot the `Friendship` graph we have created in the preceeding sections:"
   ]
  },
  {
   "cell_type": "code",
   "execution_count": null,
   "metadata": {},
   "outputs": [],
   "source": [
    "nx.draw(G, with_labels=True)\n",
    "plt.show()"
   ]
  },
  {
   "cell_type": "markdown",
   "metadata": {},
   "source": [
    "The look of figures can be changed using the arguments of the draw function. For example:"
   ]
  },
  {
   "cell_type": "code",
   "execution_count": null,
   "metadata": {},
   "outputs": [],
   "source": [
    "nx.draw(G, with_labels=True, font_color='white', node_color='black', node_size=2000, width=8)\n",
    "plt.show()"
   ]
  },
  {
   "cell_type": "markdown",
   "metadata": {},
   "source": [
    "Note that arguments refering to node (or edge) properties can be a single value (as in `node_color='black'`) or a list with a value for each node (that is, a list with *exactly* as many values as nodes), as in the following example:"
   ]
  },
  {
   "cell_type": "code",
   "execution_count": null,
   "metadata": {},
   "outputs": [],
   "source": [
    "colors = ['black', 'black', 'black', 'red', 'red']\n",
    "nx.draw(G, with_labels=True, font_color='white', node_color=colors, node_size=2000, width=8)\n",
    "plt.show()"
   ]
  },
  {
   "cell_type": "markdown",
   "metadata": {},
   "source": [
    "The size of a figure can be modified by defining a Matplotlib figure first:"
   ]
  },
  {
   "cell_type": "code",
   "execution_count": null,
   "metadata": {},
   "outputs": [],
   "source": [
    "plt.figure(figsize=(10, 10))\n",
    "nx.draw(G, with_labels=True, font_color='white', node_color=colors, node_size=2000, width=8)\n",
    "plt.show()"
   ]
  },
  {
   "cell_type": "markdown",
   "metadata": {},
   "source": [
    "Perhaps more importantly, NetworkX provides several different layout algorithms, which can be used to specify the positions of the nodes. The complete list of layout algorithms (along with the arguments they take) is available [here](https://networkx.github.io/documentation/latest/reference/drawing.html#module-networkx.drawing.layout), and here are a few examples:"
   ]
  },
  {
   "cell_type": "code",
   "execution_count": null,
   "metadata": {},
   "outputs": [],
   "source": [
    "# Spring layout\n",
    "plt.figure(figsize=(4, 4))\n",
    "pos = nx.spring_layout(G, k=1)\n",
    "nx.draw(G, with_labels=True, pos=pos, font_color='white', node_color=colors, node_size=1000, width=1)\n",
    "plt.show()\n",
    "\n",
    "# Circular layout\n",
    "plt.figure(figsize=(4, 4))\n",
    "pos = nx.circular_layout(G)\n",
    "nx.draw(G, with_labels=True, pos=pos, font_color='white', node_color=colors, node_size=1000, width=1)\n",
    "plt.show()\n",
    "\n",
    "# Random layout\n",
    "plt.figure(figsize=(4, 4))\n",
    "pos = nx.random_layout(G)\n",
    "nx.draw(G, with_labels=True, pos=pos, font_color='white', node_color=colors, node_size=1000, width=1)\n",
    "plt.show()"
   ]
  },
  {
   "cell_type": "markdown",
   "metadata": {},
   "source": [
    "To save drawings to a file, use the `.save()` method in Matplotlib:"
   ]
  },
  {
   "cell_type": "code",
   "execution_count": null,
   "metadata": {},
   "outputs": [],
   "source": [
    "plt.figure(figsize=(5, 5))\n",
    "nx.draw(G, with_labels=True, font_color='white', node_color=colors, node_size=2000, width=3)\n",
    "plt.savefig(\"Media/test_net.pdf\")\n",
    "plt.show()"
   ]
  },
  {
   "cell_type": "markdown",
   "metadata": {},
   "source": [
    "Now, if you open the `Media` directory, you should find the PDF file you just created in there. \n",
    "\n",
    "## Examining and removing nodes and edges\n",
    "\n",
    "We can examine the nodes and edges. Four basic graph properties facilitate\n",
    "reporting: `G.nodes`, `G.edges`, `G.adj` and `G.degree`. They offer a continually updated read-only view into\n",
    "the graph structure. If you want a specific container type instead of a view, you can specify one.\n",
    "Here we use lists, though sets, dicts, tuples and other containers may be\n",
    "better in other contexts."
   ]
  },
  {
   "cell_type": "code",
   "execution_count": null,
   "metadata": {},
   "outputs": [],
   "source": [
    "print(list(G.nodes))\n",
    "print(list(G.edges))\n",
    "print(list(G.adj['Alice']))\n",
    "print(G.degree['Alice'])"
   ]
  },
  {
   "cell_type": "markdown",
   "metadata": {},
   "source": [
    "One can specify to report the edges and degree from a subset of all nodes\n",
    "using an *nbunch*. An *nbunch* is any of: None (meaning all nodes), a node,\n",
    "or an iterable container of nodes that is not itself a node in the graph."
   ]
  },
  {
   "cell_type": "code",
   "execution_count": null,
   "metadata": {},
   "outputs": [],
   "source": [
    "print(G.edges(['John', 'Bob']))\n",
    "print(G.degree(['John', 'Bob']))"
   ]
  },
  {
   "cell_type": "markdown",
   "metadata": {},
   "source": [
    "One can remove nodes and edges from the graph in a similar fashion to adding.\n",
    "Use methods\n",
    "`Graph.remove_node()`,\n",
    "`Graph.remove_nodes_from()`,\n",
    "`Graph.remove_edge()`\n",
    "and\n",
    "`Graph.remove_edges_from()`."
   ]
  },
  {
   "cell_type": "markdown",
   "metadata": {},
   "source": [
    "***\n",
    "\n",
    "### Exercise\n",
    "\n",
    "Take a look at all the arguments for `nx.draw()` [here](https://networkx.github.io/documentation/latest/reference/generated/networkx.drawing.nx_pylab.draw_networkx.html#networkx.drawing.nx_pylab.draw_networkx) and draw the network again with:\n",
    "* Node size proportional to each person's number of connections (degree).\n",
    "* A different node color for males and females."
   ]
  },
  {
   "cell_type": "code",
   "execution_count": null,
   "metadata": {},
   "outputs": [],
   "source": [
    "# Write your code here"
   ]
  },
  {
   "cell_type": "markdown",
   "metadata": {},
   "source": [
    "***\n",
    "\n",
    "## Graph operators and network models\n",
    "\n",
    "In addition to constructing graphs node-by-node or edge-by-edge, they\n",
    "can also be generated by\n",
    "\n",
    "1. Applying classic graph operations, such as:\n",
    "\n",
    "   ```\n",
    "   subgraph(G, nbunch)      - induced subgraph view of G on nodes in nbunch\n",
    "   union(G1,G2)             - graph union\n",
    "   disjoint_union(G1,G2)    - graph union assuming all nodes are different\n",
    "   cartesian_product(G1,G2) - return Cartesian product graph\n",
    "   compose(G1,G2)           - combine graphs identifying nodes common to both\n",
    "   complement(G)            - graph complement\n",
    "   create_empty_copy(G)     - return an empty copy of the same graph class\n",
    "   to_undirected(G) - return an undirected representation of G\n",
    "   to_directed(G)   - return a directed representation of G\n",
    "   ```\n",
    "\n",
    "1. Using an existing network model, as in the following examples:"
   ]
  },
  {
   "cell_type": "code",
   "execution_count": null,
   "metadata": {},
   "outputs": [],
   "source": [
    "# Complete graph\n",
    "testg = nx.complete_graph(10)\n",
    "pos = nx.circular_layout(testg)\n",
    "nx.draw(testg, pos=pos)"
   ]
  },
  {
   "cell_type": "code",
   "execution_count": null,
   "metadata": {},
   "outputs": [],
   "source": [
    "# Random graph\n",
    "testg = nx.erdos_renyi_graph(20, 0.2)\n",
    "pos = nx.spring_layout(testg)\n",
    "nx.draw(testg, pos=pos)"
   ]
  },
  {
   "cell_type": "code",
   "execution_count": null,
   "metadata": {},
   "outputs": [],
   "source": [
    "# Preferential attachment graph\n",
    "testg = nx.barabasi_albert_graph(100, 1)\n",
    "pos = nx.spring_layout(testg, iterations=100)\n",
    "nx.draw(testg, pos=pos, node_size=50)"
   ]
  },
  {
   "cell_type": "markdown",
   "metadata": {},
   "source": [
    "***\n",
    "\n",
    "### Exercise\n",
    "\n",
    "Use the `help()` function to describe what an Erdos-Renyi graph is."
   ]
  },
  {
   "cell_type": "code",
   "execution_count": null,
   "metadata": {},
   "outputs": [],
   "source": [
    "# Write your code here"
   ]
  },
  {
   "cell_type": "markdown",
   "metadata": {},
   "source": [
    "*Explain, using your own words, what an Erdos-Renyi graph is.*\n",
    "\n",
    "***"
   ]
  },
  {
   "cell_type": "markdown",
   "metadata": {},
   "source": [
    "## Analyzing networks\n",
    "\n",
    "The structure of a network can be analyzed using various graph-theoretic\n",
    "functions that you have seen in the theoretical lectures. For example, one can easily find connected components of the network:"
   ]
  },
  {
   "cell_type": "code",
   "execution_count": null,
   "metadata": {},
   "outputs": [],
   "source": [
    "# Make the `Friendship` graph more interesting\n",
    "G.add_edge('Daniel', 'Francesca')\n",
    "nx.draw(G, with_labels=True)\n",
    "plt.show()\n",
    "\n",
    "# Get the connected components\n",
    "print(list(nx.connected_components(G)))"
   ]
  },
  {
   "cell_type": "markdown",
   "metadata": {},
   "source": [
    "As we have already seen, it is also straightforward to get the degree of each node (that is, the number of connections of each node):"
   ]
  },
  {
   "cell_type": "code",
   "execution_count": null,
   "metadata": {},
   "outputs": [],
   "source": [
    "print(G.degree())"
   ]
  },
  {
   "cell_type": "markdown",
   "metadata": {},
   "source": [
    "Similary, we can get the clustering coefficient of the network, shortest paths between nodes, etc."
   ]
  },
  {
   "cell_type": "code",
   "execution_count": null,
   "metadata": {},
   "outputs": [],
   "source": [
    "print(nx.clustering(G))\n",
    "print(nx.average_clustering(G))\n",
    "print(nx.shortest_path(G, 'Carla', 'John'))"
   ]
  },
  {
   "cell_type": "markdown",
   "metadata": {},
   "source": [
    "For a complete list of all the algorithms implemented in NetworkX, look [here](https://networkx.github.io/documentation/latest/reference/algorithms/index.html).\n",
    "\n",
    "***\n",
    "\n",
    "### Exercise\n",
    "\n",
    "Recall, from the theoretical class, what the clustering coefficient of a node is. Then, think why the clustering coefficient of all nodes in the network above was 0, and *add only one edge to the network* so that the clustering of at least one node becomes larger than 0. Then, calculate the [average clustering coefficient](https://networkx.github.io/documentation/latest/reference/algorithms/generated/networkx.algorithms.cluster.average_clustering.html) of the network."
   ]
  },
  {
   "cell_type": "code",
   "execution_count": null,
   "metadata": {},
   "outputs": [],
   "source": [
    "# Write your code here"
   ]
  },
  {
   "cell_type": "markdown",
   "metadata": {},
   "source": [
    "***\n",
    "\n",
    "#  Getting Biogrid data with the Orange-Bioinformatics module\n",
    "\n",
    "So far, we have seen how to build and analyze networks using NetworkX. In general, when dealing with biological data we do *not* want to build networks by adding nodes and edges one by one, but rather get data from some database. Here, we will see how to get data from the [BioGrid](https://thebiogrid.org/) protein interaction database. To automate this task, we will be using the [Orange Bioinformatics](https://pythonhosted.org/Orange-Bioinformatics/) Python module. Here, we just introduce the basics---for more details, take a look at all the protein-protein interaction capabilities of Orange Bioinformatics [here](https://pythonhosted.org/Orange-Bioinformatics/reference/ppi.html).\n",
    "\n",
    "Let's first import the necessary protein-protein interaction (PPI) tools, and then create an instance of the `BioGRID()` class, which will allow us to interact with the BioGrid database:"
   ]
  },
  {
   "cell_type": "code",
   "execution_count": null,
   "metadata": {},
   "outputs": [],
   "source": [
    "from orangecontrib.bio import ppi\n",
    "biogrid = ppi.BioGRID()"
   ]
  },
  {
   "cell_type": "markdown",
   "metadata": {},
   "source": [
    "Now, we would typically want to get a list of proteins and protein-protein interactions for a given organism. Let's start with the proteins. The method `.ids()` returns the list of all proteins in the database; if the `taxid` argument is specified, only the proteins of a given organism (e.g. *E. coli*) are given. Let's gell all *E. coli*'s proteins in BioGrid:"
   ]
  },
  {
   "cell_type": "code",
   "execution_count": null,
   "metadata": {},
   "outputs": [],
   "source": [
    "# The NCBI taxonomic ID of E. coli str. K-12 substr. W3110 is 316407\n",
    "proteins = biogrid.ids(taxid=\"316407\")\n",
    "print(proteins)"
   ]
  },
  {
   "cell_type": "markdown",
   "metadata": {},
   "source": [
    "As you can see, the proteins are identified by a number rather than a name. To get all names of a given protein, we can use the `.synonyms()` method of the `biogrid` instance:"
   ]
  },
  {
   "cell_type": "code",
   "execution_count": null,
   "metadata": {},
   "outputs": [],
   "source": [
    "# Get the names of the first protein listed in BioGrid for E. coli\n",
    "print('Protein:', proteins[0])\n",
    "print('Names:', biogrid.synonyms(proteins[0]))"
   ]
  },
  {
   "cell_type": "markdown",
   "metadata": {},
   "source": [
    "Great! Those (at least the last ones) look more like the protein names that biologist typically use (you can see more information about this protein in the [Uniprot databse](https://www.uniprot.org/uniprot/P45550)).\n",
    "\n",
    "Finally, as mentioned above, we would typically be interested in getting the list of proteins that interact with a given protein, for example, the proteins that interact with the yhfX protein in *E. coli*:"
   ]
  },
  {
   "cell_type": "code",
   "execution_count": null,
   "metadata": {},
   "outputs": [],
   "source": [
    "print(biogrid.edges(proteins[0]))\n",
    "print('Total number of interactions:', len(biogrid.edges(proteins[0])))"
   ]
  },
  {
   "cell_type": "markdown",
   "metadata": {},
   "source": [
    "So, the yhfX protein in *E. coli* interacts with a total of 122 other proteins! Not bad!!"
   ]
  },
  {
   "cell_type": "markdown",
   "metadata": {},
   "source": [
    "***\n",
    "\n",
    "### Exercise\n",
    "\n",
    "Get the degree of each protein in the *E. coli* interactome and plot the distribution of those degrees (for example, using the [`plt.hist()`](https://matplotlib.org/api/_as_gen/matplotlib.pyplot.hist.html) method from Matplotlib). "
   ]
  },
  {
   "cell_type": "code",
   "execution_count": null,
   "metadata": {},
   "outputs": [],
   "source": [
    "# Write your code here"
   ]
  },
  {
   "cell_type": "markdown",
   "metadata": {},
   "source": [
    "***\n",
    "\n",
    "# Final exercise\n",
    "\n",
    "As we investigated during the last session, the genome of the SARS-CoV-2 coronavirus that is causing the current COVID-19 pandemic is very similar to the genome of the 2002-2003 SARS-CoV virus. An article by [Gordon et al.](https://www.biorxiv.org/content/10.1101/2020.03.22.002386v1), published online on Sunday, March 22nd, 2020, reported the following coding regions in the SARS-CoV-2 genome\n",
    "\n",
    "![SARS-CoV-2 genome](Media/sars-cov-2_genome.png)\n",
    "\n",
    "Summarizing, the genome codes for 4 structural proteins (S, E, M, and N), 9 accessory factors (3a, 3b, 6, 7a, 7b, 8, 9b, 9c, and 10), and 16 non-structural proteins (Nsp1-16). Most of these proteins are very similar to those in the 2002-2003 virus, as shown in the following table:\n",
    "\n",
    "![Protein table](Media/proteins.png)\n",
    "\n",
    "Even more importantly, [Gordon et al.](https://www.biorxiv.org/content/10.1101/2020.03.22.002386v1) identified many protein-protein interactions between SARS-CoV-2 proteins and human proteins, which should help undertand how the virus attacks human cells, and therefore point towards promising drug targets. I recommend that you read this article (as well as [this other article](https://journals.plos.org/plospathogens/article?id=10.1371/journal.ppat.1002331), which did a similar thing for the 2002-2003 SARS-CoV) to learn more about how network analysis of protein interactions can help us uncover drug targets to fight the COVID-19 epidemic.\n",
    "\n",
    "**Here, we will map these protein-protein interactions into a network, and analyze them in the context of the human interactome.**"
   ]
  },
  {
   "cell_type": "markdown",
   "metadata": {},
   "source": [
    "1. Using what you learned in the last session, explain (without actually doing it) how would you obtain the sequence similarity with SARS-CoV as reported in the table above."
   ]
  },
  {
   "cell_type": "markdown",
   "metadata": {},
   "source": [
    "*Type your answer here*."
   ]
  },
  {
   "cell_type": "markdown",
   "metadata": {},
   "source": [
    "2. The Supplementary Information of the article by [Gordon et al.](https://www.biorxiv.org/content/10.1101/2020.03.22.002386v1) (SI Table 2) contains an Excel table with the high-confidence interactions identified between SARS-CoV-2 proteins and human proteins. We have downloaded this Excel file and saved it as `Data/media-5.xlsx`. Open the Excel file into a Pandas `DataFrame` and display the `DataFrame` (if you don't remember how to do this, you can either revise the notebook of Session 1 or Google it)."
   ]
  },
  {
   "cell_type": "code",
   "execution_count": null,
   "metadata": {},
   "outputs": [],
   "source": [
    "# Write your code here"
   ]
  },
  {
   "cell_type": "markdown",
   "metadata": {},
   "source": [
    "3. In the dataframe, each row represents a high-confidence protein-protein interaction. For each interaction, column *Bait* contains the SARS-CoV-2 protein and column *PreyGene* contains the human protein. Build a network containing all protein-protein interactions. Print the number of nodes and the number of edges in the network."
   ]
  },
  {
   "cell_type": "code",
   "execution_count": null,
   "metadata": {},
   "outputs": [],
   "source": [
    "# Write your code here"
   ]
  },
  {
   "cell_type": "markdown",
   "metadata": {},
   "source": [
    "4. Draw the SARS-CoV-2-human protein-protein interaction network, showing the name of each node/protein. Make sure that the network is clearly visible, modifying the parameters of the layout function (and the layout function itself) as needed to get the cleanest possible picture. Use different colors for SARS-CoV-2 and human proteins.For extra credit, make edge widths proportional to the MIST score of each interaction (which indicates how reliable the interaction is)."
   ]
  },
  {
   "cell_type": "code",
   "execution_count": null,
   "metadata": {},
   "outputs": [],
   "source": [
    "# Write your code here"
   ]
  },
  {
   "cell_type": "markdown",
   "metadata": {},
   "source": [
    "5. Load the Biogrid data for protein-protein interactions in humans. **Hint:** The taxid for human is 9606."
   ]
  },
  {
   "cell_type": "code",
   "execution_count": null,
   "metadata": {},
   "outputs": [],
   "source": [
    "# Write your code here"
   ]
  },
  {
   "cell_type": "markdown",
   "metadata": {},
   "source": [
    "6. Calculate the degree (that is, number of interactions) of each protein in the human interactome, and compare the mean degree of proteins that interact with SARS-CoV-2 proteins to the mean degree of proteins that do *not* interact with SARS-CoV-2 proteins. **Hints:** (i) You will need to look at the synonyms of each protein in Biogrid, since the names used by [Gordon et al.](https://www.biorxiv.org/content/10.1101/2020.03.22.002386v1) are not the Biogrid IDs; (ii) Some protein names used by [Gordon et al.](https://www.biorxiv.org/content/10.1101/2020.03.22.002386v1) do not appear in Biogrid as synonyms of any protein---you can just ignore those. "
   ]
  },
  {
   "cell_type": "code",
   "execution_count": null,
   "metadata": {},
   "outputs": [],
   "source": [
    "# Write your code here"
   ]
  }
 ],
 "metadata": {
  "kernelspec": {
   "display_name": "Python 3",
   "language": "python",
   "name": "python3"
  },
  "language_info": {
   "codemirror_mode": {
    "name": "ipython",
    "version": 3
   },
   "file_extension": ".py",
   "mimetype": "text/x-python",
   "name": "python",
   "nbconvert_exporter": "python",
   "pygments_lexer": "ipython3",
   "version": "3.8.5"
  }
 },
 "nbformat": 4,
 "nbformat_minor": 2
}

{
 "cells": [
  {
   "cell_type": "markdown",
   "metadata": {},
   "source": [
    "# Reminder of flux balance analysis\n",
    "\n",
    "Flux balance analysis (FBA) is a mathematical and computational technique for estimating metabolic fluxes. "
   ]
  },
  {
   "cell_type": "markdown",
   "metadata": {},
   "source": [
    "# Basic functioning of COBRApy\n",
    "\n",
    "[`COBRApy`](https://cobrapy.readthedocs.io/) is a Python implementation of the COnstraint-Based Reconstruction and Analysis Toolbox [for MATLAB](https://opencobra.github.io/cobratoolbox/stable/), a software suite for quantitative prediction of cellular and multicellular biochemical networks with constraint-based modelling. As we will see in today's session, it can be used for modeling metabolic fluxes, simulating gene knockouts and other things.\n",
    "\n",
    "Let's import `COBRA` and take a look at some of its basic features. To begin with, we note that it comes with bundled models for *Salmonella* and *E. coli*, as well as a “textbook” model of *E. coli* core metabolism. Let's take a look:"
   ]
  },
  {
   "cell_type": "code",
   "execution_count": 19,
   "metadata": {},
   "outputs": [
    {
     "name": "stdout",
     "output_type": "stream",
     "text": [
      "The model object is ot type <class 'cobra.core.model.Model'>\n"
     ]
    },
    {
     "data": {
      "text/html": [
       "\n",
       "        <table>\n",
       "            <tr>\n",
       "                <td><strong>Name</strong></td>\n",
       "                <td>e_coli_core</td>\n",
       "            </tr><tr>\n",
       "                <td><strong>Memory address</strong></td>\n",
       "                <td>0x07f4403f19670</td>\n",
       "            </tr><tr>\n",
       "                <td><strong>Number of metabolites</strong></td>\n",
       "                <td>72</td>\n",
       "            </tr><tr>\n",
       "                <td><strong>Number of reactions</strong></td>\n",
       "                <td>95</td>\n",
       "            </tr><tr>\n",
       "                <td><strong>Number of groups</strong></td>\n",
       "                <td>0</td>\n",
       "            </tr><tr>\n",
       "                <td><strong>Objective expression</strong></td>\n",
       "                <td>1.0*Biomass_Ecoli_core - 1.0*Biomass_Ecoli_core_reverse_2cdba</td>\n",
       "            </tr><tr>\n",
       "                <td><strong>Compartments</strong></td>\n",
       "                <td>cytosol, extracellular</td>\n",
       "            </tr>\n",
       "          </table>"
      ],
      "text/plain": [
       "<Model e_coli_core at 0x7f4403f19670>"
      ]
     },
     "metadata": {},
     "output_type": "display_data"
    }
   ],
   "source": [
    "import cobra\n",
    "import cobra.test\n",
    "\n",
    "# \"textbook\", \"ecoli\" and \"salmonella\" are valid arguments to create_test_model\n",
    "model = cobra.test.create_test_model(\"textbook\")\n",
    "print('The model object is ot type', type(model))\n",
    "display(model)"
   ]
  },
  {
   "cell_type": "markdown",
   "metadata": {},
   "source": [
    "### Exercise 1\n",
    "\n",
    "**Describe the basic information about the \"textbook\" metabolic reconstruction. How many metabolites does it comprise? How many reactions? Which cellular compartments?**\n",
    "\n",
    "#### Answer\n",
    "\n",
    "Write your answer here"
   ]
  },
  {
   "cell_type": "markdown",
   "metadata": {},
   "source": [
    "### Exercise 2\n",
    "\n",
    "**Load the metabolic reconstruction for *E. coli* into a `Model` object called `model2` and describe its basic properties.**\n",
    "\n",
    "#### Answer"
   ]
  },
  {
   "cell_type": "code",
   "execution_count": 13,
   "metadata": {},
   "outputs": [],
   "source": [
    "# Type your code here\n"
   ]
  },
  {
   "cell_type": "markdown",
   "metadata": {},
   "source": [
    "Type your description here"
   ]
  },
  {
   "cell_type": "markdown",
   "metadata": {},
   "source": [
    "## Metabolites\n",
    "\n",
    "The metabolites in a given reconstruction are stored in a `list` and can be accessed through the `.metabolites` atribute of the `Model` as follows:"
   ]
  },
  {
   "cell_type": "code",
   "execution_count": 38,
   "metadata": {},
   "outputs": [
    {
     "name": "stdout",
     "output_type": "stream",
     "text": [
      "Access the first element in the .metabolites list:\n"
     ]
    },
    {
     "data": {
      "text/html": [
       "\n",
       "        <table>\n",
       "            <tr>\n",
       "                <td><strong>Metabolite identifier</strong></td><td>13dpg_c</td>\n",
       "            </tr><tr>\n",
       "                <td><strong>Name</strong></td><td>3-Phospho-D-glyceroyl phosphate</td>\n",
       "            </tr><tr>\n",
       "                <td><strong>Memory address</strong></td>\n",
       "                <td>0x07f4404102a60</td>\n",
       "            </tr><tr>\n",
       "                <td><strong>Formula</strong></td><td>C3H4O10P2</td>\n",
       "            </tr><tr>\n",
       "                <td><strong>Compartment</strong></td><td>c</td>\n",
       "            </tr><tr>\n",
       "                <td><strong>In 2 reaction(s)</strong></td><td>\n",
       "                    PGK, GAPD</td>\n",
       "            </tr>\n",
       "        </table>"
      ],
      "text/plain": [
       "<Metabolite 13dpg_c at 0x7f4404102a60>"
      ]
     },
     "metadata": {},
     "output_type": "display_data"
    },
    {
     "name": "stdout",
     "output_type": "stream",
     "text": [
      "\n",
      "Access the \"atp_c\" (cytoplasmatic ATP) metabolite in the .metabolites list:\n"
     ]
    },
    {
     "data": {
      "text/html": [
       "\n",
       "        <table>\n",
       "            <tr>\n",
       "                <td><strong>Metabolite identifier</strong></td><td>atp_c</td>\n",
       "            </tr><tr>\n",
       "                <td><strong>Name</strong></td><td>ATP</td>\n",
       "            </tr><tr>\n",
       "                <td><strong>Memory address</strong></td>\n",
       "                <td>0x07f4404102a00</td>\n",
       "            </tr><tr>\n",
       "                <td><strong>Formula</strong></td><td>C10H12N5O13P3</td>\n",
       "            </tr><tr>\n",
       "                <td><strong>Compartment</strong></td><td>c</td>\n",
       "            </tr><tr>\n",
       "                <td><strong>In 13 reaction(s)</strong></td><td>\n",
       "                    GLNS, ATPM, PFK, PGK, SUCOAS, PPS, ATPS4r, GLNabc, ACKr, PPCK, PYK, ADK1, Biomass_Ecoli_core</td>\n",
       "            </tr>\n",
       "        </table>"
      ],
      "text/plain": [
       "<Metabolite atp_c at 0x7f4404102a00>"
      ]
     },
     "metadata": {},
     "output_type": "display_data"
    }
   ],
   "source": [
    "# Metabolites are stored in a the attribute 'metabolites' of the Model, which can be accessed as\n",
    "# model.metabolites. Each metabolite in this list can be accessed by its index, as in any other list\n",
    "print('Access the first element in the .metabolites list:')\n",
    "display(model.metabolites[0])\n",
    "\n",
    "# Alternatively, metabolites can be accessed by their identifier\n",
    "print()\n",
    "print('Access the \"atp_c\" (cytoplasmatic ATP) metabolite in the .metabolites list:')\n",
    "atp = model.metabolites.get_by_id('atp_c')\n",
    "display(atp)"
   ]
  },
  {
   "cell_type": "markdown",
   "metadata": {},
   "source": [
    "Great!! Let's focus on the `atp` metabolite and see what information we can extract from it through its attributes."
   ]
  },
  {
   "cell_type": "code",
   "execution_count": 33,
   "metadata": {},
   "outputs": [
    {
     "name": "stdout",
     "output_type": "stream",
     "text": [
      "Name: ATP\n",
      "Compartment: c\n",
      "Charge: -4\n",
      "Formula: C10H12N5O13P3\n",
      "Elements: {'C': 10, 'H': 12, 'N': 5, 'O': 13, 'P': 3}\n",
      "Weight: 503.149263\n"
     ]
    }
   ],
   "source": [
    "print('Name:', atp.name)\n",
    "print('Compartment:', atp.compartment)\n",
    "print('Charge:', atp.charge)\n",
    "print('Formula:', atp.formula)\n",
    "print('Elements:', atp.elements)\n",
    "print('Weight:', atp.formula_weight)"
   ]
  },
  {
   "cell_type": "markdown",
   "metadata": {},
   "source": [
    "For a complete list of attributes and methods of `Metabolite` objects, you can do `dir(atp)`."
   ]
  },
  {
   "cell_type": "markdown",
   "metadata": {},
   "source": [
    "## Reactions\n",
    "\n",
    "Next, let's take a look at how reactions are stored and how to access and extract information from them. Similar to metabolites, reactions are stored in a `list` in the `.reactions` attribute of the `Model`."
   ]
  },
  {
   "cell_type": "code",
   "execution_count": 59,
   "metadata": {},
   "outputs": [
    {
     "name": "stdout",
     "output_type": "stream",
     "text": [
      "Access the first element in the .reactions list:\n"
     ]
    },
    {
     "data": {
      "text/html": [
       "\n",
       "        <table>\n",
       "            <tr>\n",
       "                <td><strong>Reaction identifier</strong></td><td>ACALD</td>\n",
       "            </tr><tr>\n",
       "                <td><strong>Name</strong></td><td>acetaldehyde dehydrogenase (acetylating)</td>\n",
       "            </tr><tr>\n",
       "                <td><strong>Memory address</strong></td>\n",
       "                <td>0x07f4405d3f6a0</td>\n",
       "            </tr><tr>\n",
       "                <td><strong>Stoichiometry</strong></td>\n",
       "                <td>\n",
       "                    <p style='text-align:right'>acald_c + coa_c + nad_c <=> accoa_c + h_c + nadh_c</p>\n",
       "                    <p style='text-align:right'>Acetaldehyde + Coenzyme A + Nicotinamide adenine dinucleotide <=> Acetyl-CoA + H+ + Nicotinamide adenine dinucleotide - reduced</p>\n",
       "                </td>\n",
       "            </tr><tr>\n",
       "                <td><strong>GPR</strong></td><td>b0351 or b1241</td>\n",
       "            </tr><tr>\n",
       "                <td><strong>Lower bound</strong></td><td>-1000.0</td>\n",
       "            </tr><tr>\n",
       "                <td><strong>Upper bound</strong></td><td>1000.0</td>\n",
       "            </tr>\n",
       "        </table>\n",
       "        "
      ],
      "text/plain": [
       "<Reaction ACALD at 0x7f4405d3f6a0>"
      ]
     },
     "metadata": {},
     "output_type": "display_data"
    },
    {
     "name": "stdout",
     "output_type": "stream",
     "text": [
      "\n",
      "Access the \"PYK\" reaction in the .reactions list:\n"
     ]
    },
    {
     "data": {
      "text/html": [
       "\n",
       "        <table>\n",
       "            <tr>\n",
       "                <td><strong>Reaction identifier</strong></td><td>PYK</td>\n",
       "            </tr><tr>\n",
       "                <td><strong>Name</strong></td><td>pyruvate kinase</td>\n",
       "            </tr><tr>\n",
       "                <td><strong>Memory address</strong></td>\n",
       "                <td>0x07f4404e8c790</td>\n",
       "            </tr><tr>\n",
       "                <td><strong>Stoichiometry</strong></td>\n",
       "                <td>\n",
       "                    <p style='text-align:right'>adp_c + h_c + pep_c --> atp_c + pyr_c</p>\n",
       "                    <p style='text-align:right'>ADP + H+ + Phosphoenolpyruvate --> ATP + Pyruvate</p>\n",
       "                </td>\n",
       "            </tr><tr>\n",
       "                <td><strong>GPR</strong></td><td>b1854 or b1676</td>\n",
       "            </tr><tr>\n",
       "                <td><strong>Lower bound</strong></td><td>0.0</td>\n",
       "            </tr><tr>\n",
       "                <td><strong>Upper bound</strong></td><td>1000.0</td>\n",
       "            </tr>\n",
       "        </table>\n",
       "        "
      ],
      "text/plain": [
       "<Reaction PYK at 0x7f4404e8c790>"
      ]
     },
     "metadata": {},
     "output_type": "display_data"
    }
   ],
   "source": [
    "# Reactions are stored in a the attribute ''.reactions' of the Model, which can be accessed as\n",
    "# model.reactions. Each reaction in this list can be accessed by its index, as in any other list\n",
    "print('Access the first element in the .reactions list:')\n",
    "display(model.reactions[0])\n",
    "\n",
    "# Alternatively, reactions can be accessed by their identifier\n",
    "print('\\nAccess the \"PYK\" reaction in the .reactions list:')\n",
    "pyk = model.reactions.get_by_id('PYK')\n",
    "display(pyk)"
   ]
  },
  {
   "cell_type": "markdown",
   "metadata": {},
   "source": [
    "As for metabolites, a number of attributes of the reaction allow us to get all sorts of information:"
   ]
  },
  {
   "cell_type": "code",
   "execution_count": 60,
   "metadata": {},
   "outputs": [
    {
     "name": "stdout",
     "output_type": "stream",
     "text": [
      "Name: pyruvate kinase\n",
      "Reaction: adp_c + h_c + pep_c --> atp_c + pyr_c\n",
      "Compartments: {'c'}\n",
      "Reactants: [<Metabolite adp_c at 0x7f4404102be0>, <Metabolite h_c at 0x7f4403f51c70>, <Metabolite pep_c at 0x7f4403f5e400>]\n",
      "Products: [<Metabolite atp_c at 0x7f4404102a00>, <Metabolite pyr_c at 0x7f4403f5e520>]\n"
     ]
    }
   ],
   "source": [
    "print('Name:', pyk.name)\n",
    "print('Reaction:', pyk.reaction)\n",
    "print('Compartments:', pgi.compartments)\n",
    "print('Reactants:', pyk.reactants)\n",
    "print('Products:', pyk.products)"
   ]
  },
  {
   "cell_type": "markdown",
   "metadata": {},
   "source": [
    "`Reaction` objects, however, are more complex than `Metabolite` objects, because of course reactions are regulated by enzymes (encoded by genes), have to fulfill certain conditions (e.g. conservation of atoms), and need to be balanced overall. Let's see how to handle all of these things. Let's start by the regulation: which enzymes are catalyzing this reaction"
   ]
  },
  {
   "cell_type": "code",
   "execution_count": 63,
   "metadata": {},
   "outputs": [
    {
     "name": "stdout",
     "output_type": "stream",
     "text": [
      "pykA or pykF\n",
      "b1854 or b1676\n"
     ]
    },
    {
     "data": {
      "text/plain": [
       "frozenset({<Gene b1676 at 0x7f4405d3caf0>, <Gene b1854 at 0x7f4405d3c670>})"
      ]
     },
     "execution_count": 63,
     "metadata": {},
     "output_type": "execute_result"
    }
   ],
   "source": [
    "print(pyk.gene_name_reaction_rule)\n",
    "print(pyk.gene_reaction_rule)\n",
    "pyk.genes"
   ]
  },
  {
   "cell_type": "code",
   "execution_count": null,
   "metadata": {},
   "outputs": [],
   "source": [
    "# Check mass balance"
   ]
  },
  {
   "cell_type": "code",
   "execution_count": 53,
   "metadata": {},
   "outputs": [],
   "source": [
    "# Genes"
   ]
  },
  {
   "cell_type": "code",
   "execution_count": 39,
   "metadata": {},
   "outputs": [
    {
     "data": {
      "text/plain": [
       "{<Metabolite g6p_c at 0x7f4403f05f70>: -1.0,\n",
       " <Metabolite f6p_c at 0x7f4403f51610>: 1.0}"
      ]
     },
     "execution_count": 39,
     "metadata": {},
     "output_type": "execute_result"
    }
   ],
   "source": [
    "pgi.metabolites"
   ]
  },
  {
   "cell_type": "markdown",
   "metadata": {},
   "source": [
    "\n",
    "\n",
    "\n",
    "For a complete list of attributes and methods of `Reaction` objects, you can do `dir(pgi)`.\n",
    "\n",
    "\n",
    "\n",
    "\n",
    "\n",
    "\n",
    "\n",
    "\n",
    "\n",
    "\n",
    "\n",
    "\n",
    "\n",
    "\n",
    "\n",
    "\n",
    "\n",
    "\n",
    "\n",
    "\n",
    "\n",
    "\n",
    "\n",
    "\n",
    "\n",
    "\n"
   ]
  },
  {
   "cell_type": "code",
   "execution_count": 29,
   "metadata": {},
   "outputs": [
    {
     "name": "stdout",
     "output_type": "stream",
     "text": [
      "                              PERCENT  FLUX                  REACTION_STRING                  \n",
      "RXN_STAT  ID                                                                                  \n",
      "PRODUCING ATPS4r               66.6    45.5  adp_c + 4.0 h_e + pi_c <=> atp_c + h2o_c + 3.0...\n",
      "          PGK                  23.4      16                  3pg_c + atp_c <=> 13dpg_c + adp_c\n",
      "          SUCOAS               7.41    5.06  atp_c + coa_c + succ_c <=> adp_c + pi_c + succ...\n",
      "          PYK                  2.57    1.76              adp_c + h_c + pep_c --> atp_c + pyr_c\n",
      "CONSUMING Biomass_Ecoli_core   76.5    52.3  1.496 3pg_c + 3.7478 accoa_c + 59.81 atp_c + 0...\n",
      "          ATPM                 12.3    8.39               atp_c + h2o_c --> adp_c + h_c + pi_c\n",
      "          PFK                  10.9    7.48              atp_c + f6p_c --> adp_c + fdp_c + h_c\n"
     ]
    },
    {
     "name": "stderr",
     "output_type": "stream",
     "text": [
      "cobra/core/summary/summary.py:206 \u001b[1;31mUserWarning\u001b[0m: Setting float_format to anything other than None will cause nan to be present in the output.\n"
     ]
    }
   ],
   "source": [
    "print(atp.summary())"
   ]
  },
  {
   "cell_type": "markdown",
   "metadata": {},
   "source": [
    "Finally, the `.reactions` attribute of the `Metabolites` is a `list` comprising all reactions (active or inactive) in which the metabolite participates."
   ]
  },
  {
   "cell_type": "code",
   "execution_count": 35,
   "metadata": {
    "scrolled": false
   },
   "outputs": [
    {
     "data": {
      "text/html": [
       "\n",
       "        <table>\n",
       "            <tr>\n",
       "                <td><strong>Reaction identifier</strong></td><td>GLNS</td>\n",
       "            </tr><tr>\n",
       "                <td><strong>Name</strong></td><td>glutamine synthetase</td>\n",
       "            </tr><tr>\n",
       "                <td><strong>Memory address</strong></td>\n",
       "                <td>0x07f4405c80c10</td>\n",
       "            </tr><tr>\n",
       "                <td><strong>Stoichiometry</strong></td>\n",
       "                <td>\n",
       "                    <p style='text-align:right'>atp_c + glu__L_c + nh4_c --> adp_c + gln__L_c + h_c + pi_c</p>\n",
       "                    <p style='text-align:right'>ATP + L-Glutamate + Ammonium --> ADP + L-Glutamine + H+ + Phosphate</p>\n",
       "                </td>\n",
       "            </tr><tr>\n",
       "                <td><strong>GPR</strong></td><td>b3870 or b1297</td>\n",
       "            </tr><tr>\n",
       "                <td><strong>Lower bound</strong></td><td>0.0</td>\n",
       "            </tr><tr>\n",
       "                <td><strong>Upper bound</strong></td><td>1000.0</td>\n",
       "            </tr>\n",
       "        </table>\n",
       "        "
      ],
      "text/plain": [
       "<Reaction GLNS at 0x7f4405c80c10>"
      ]
     },
     "metadata": {},
     "output_type": "display_data"
    },
    {
     "data": {
      "text/html": [
       "\n",
       "        <table>\n",
       "            <tr>\n",
       "                <td><strong>Reaction identifier</strong></td><td>ATPM</td>\n",
       "            </tr><tr>\n",
       "                <td><strong>Name</strong></td><td>ATP maintenance requirement</td>\n",
       "            </tr><tr>\n",
       "                <td><strong>Memory address</strong></td>\n",
       "                <td>0x07f4405d45820</td>\n",
       "            </tr><tr>\n",
       "                <td><strong>Stoichiometry</strong></td>\n",
       "                <td>\n",
       "                    <p style='text-align:right'>atp_c + h2o_c --> adp_c + h_c + pi_c</p>\n",
       "                    <p style='text-align:right'>ATP + H2O --> ADP + H+ + Phosphate</p>\n",
       "                </td>\n",
       "            </tr><tr>\n",
       "                <td><strong>GPR</strong></td><td></td>\n",
       "            </tr><tr>\n",
       "                <td><strong>Lower bound</strong></td><td>8.39</td>\n",
       "            </tr><tr>\n",
       "                <td><strong>Upper bound</strong></td><td>1000.0</td>\n",
       "            </tr>\n",
       "        </table>\n",
       "        "
      ],
      "text/plain": [
       "<Reaction ATPM at 0x7f4405d45820>"
      ]
     },
     "metadata": {},
     "output_type": "display_data"
    },
    {
     "data": {
      "text/html": [
       "\n",
       "        <table>\n",
       "            <tr>\n",
       "                <td><strong>Reaction identifier</strong></td><td>PFK</td>\n",
       "            </tr><tr>\n",
       "                <td><strong>Name</strong></td><td>phosphofructokinase</td>\n",
       "            </tr><tr>\n",
       "                <td><strong>Memory address</strong></td>\n",
       "                <td>0x07f4405bc9880</td>\n",
       "            </tr><tr>\n",
       "                <td><strong>Stoichiometry</strong></td>\n",
       "                <td>\n",
       "                    <p style='text-align:right'>atp_c + f6p_c --> adp_c + fdp_c + h_c</p>\n",
       "                    <p style='text-align:right'>ATP + D-Fructose 6-phosphate --> ADP + D-Fructose 1,6-bisphosphate + H+</p>\n",
       "                </td>\n",
       "            </tr><tr>\n",
       "                <td><strong>GPR</strong></td><td>b3916 or b1723</td>\n",
       "            </tr><tr>\n",
       "                <td><strong>Lower bound</strong></td><td>0.0</td>\n",
       "            </tr><tr>\n",
       "                <td><strong>Upper bound</strong></td><td>1000.0</td>\n",
       "            </tr>\n",
       "        </table>\n",
       "        "
      ],
      "text/plain": [
       "<Reaction PFK at 0x7f4405bc9880>"
      ]
     },
     "metadata": {},
     "output_type": "display_data"
    },
    {
     "data": {
      "text/html": [
       "\n",
       "        <table>\n",
       "            <tr>\n",
       "                <td><strong>Reaction identifier</strong></td><td>PGK</td>\n",
       "            </tr><tr>\n",
       "                <td><strong>Name</strong></td><td>phosphoglycerate kinase</td>\n",
       "            </tr><tr>\n",
       "                <td><strong>Memory address</strong></td>\n",
       "                <td>0x07f4404ef5e80</td>\n",
       "            </tr><tr>\n",
       "                <td><strong>Stoichiometry</strong></td>\n",
       "                <td>\n",
       "                    <p style='text-align:right'>3pg_c + atp_c <=> 13dpg_c + adp_c</p>\n",
       "                    <p style='text-align:right'>3-Phospho-D-glycerate + ATP <=> 3-Phospho-D-glyceroyl phosphate + ADP</p>\n",
       "                </td>\n",
       "            </tr><tr>\n",
       "                <td><strong>GPR</strong></td><td>b2926</td>\n",
       "            </tr><tr>\n",
       "                <td><strong>Lower bound</strong></td><td>-1000.0</td>\n",
       "            </tr><tr>\n",
       "                <td><strong>Upper bound</strong></td><td>1000.0</td>\n",
       "            </tr>\n",
       "        </table>\n",
       "        "
      ],
      "text/plain": [
       "<Reaction PGK at 0x7f4404ef5e80>"
      ]
     },
     "metadata": {},
     "output_type": "display_data"
    },
    {
     "data": {
      "text/html": [
       "\n",
       "        <table>\n",
       "            <tr>\n",
       "                <td><strong>Reaction identifier</strong></td><td>SUCOAS</td>\n",
       "            </tr><tr>\n",
       "                <td><strong>Name</strong></td><td>succinyl-CoA synthetase (ADP-forming)</td>\n",
       "            </tr><tr>\n",
       "                <td><strong>Memory address</strong></td>\n",
       "                <td>0x07f4404ea9790</td>\n",
       "            </tr><tr>\n",
       "                <td><strong>Stoichiometry</strong></td>\n",
       "                <td>\n",
       "                    <p style='text-align:right'>atp_c + coa_c + succ_c <=> adp_c + pi_c + succoa_c</p>\n",
       "                    <p style='text-align:right'>ATP + Coenzyme A + Succinate <=> ADP + Phosphate + Succinyl-CoA</p>\n",
       "                </td>\n",
       "            </tr><tr>\n",
       "                <td><strong>GPR</strong></td><td>b0728 and b0729</td>\n",
       "            </tr><tr>\n",
       "                <td><strong>Lower bound</strong></td><td>-1000.0</td>\n",
       "            </tr><tr>\n",
       "                <td><strong>Upper bound</strong></td><td>1000.0</td>\n",
       "            </tr>\n",
       "        </table>\n",
       "        "
      ],
      "text/plain": [
       "<Reaction SUCOAS at 0x7f4404ea9790>"
      ]
     },
     "metadata": {},
     "output_type": "display_data"
    },
    {
     "data": {
      "text/html": [
       "\n",
       "        <table>\n",
       "            <tr>\n",
       "                <td><strong>Reaction identifier</strong></td><td>PPS</td>\n",
       "            </tr><tr>\n",
       "                <td><strong>Name</strong></td><td>phosphoenolpyruvate synthase</td>\n",
       "            </tr><tr>\n",
       "                <td><strong>Memory address</strong></td>\n",
       "                <td>0x07f4404e8c8e0</td>\n",
       "            </tr><tr>\n",
       "                <td><strong>Stoichiometry</strong></td>\n",
       "                <td>\n",
       "                    <p style='text-align:right'>atp_c + h2o_c + pyr_c --> amp_c + 2.0 h_c + pep_c + pi_c</p>\n",
       "                    <p style='text-align:right'>ATP + H2O + Pyruvate --> AMP + 2.0 H+ + Phosphoenolpyruvate + Phosphate</p>\n",
       "                </td>\n",
       "            </tr><tr>\n",
       "                <td><strong>GPR</strong></td><td>b1702</td>\n",
       "            </tr><tr>\n",
       "                <td><strong>Lower bound</strong></td><td>0.0</td>\n",
       "            </tr><tr>\n",
       "                <td><strong>Upper bound</strong></td><td>1000.0</td>\n",
       "            </tr>\n",
       "        </table>\n",
       "        "
      ],
      "text/plain": [
       "<Reaction PPS at 0x7f4404e8c8e0>"
      ]
     },
     "metadata": {},
     "output_type": "display_data"
    },
    {
     "data": {
      "text/html": [
       "\n",
       "        <table>\n",
       "            <tr>\n",
       "                <td><strong>Reaction identifier</strong></td><td>ATPS4r</td>\n",
       "            </tr><tr>\n",
       "                <td><strong>Name</strong></td><td>ATP synthase (four protons for one ATP)</td>\n",
       "            </tr><tr>\n",
       "                <td><strong>Memory address</strong></td>\n",
       "                <td>0x07f4405d3f700</td>\n",
       "            </tr><tr>\n",
       "                <td><strong>Stoichiometry</strong></td>\n",
       "                <td>\n",
       "                    <p style='text-align:right'>adp_c + 4.0 h_e + pi_c <=> atp_c + h2o_c + 3.0 h_c</p>\n",
       "                    <p style='text-align:right'>ADP + 4.0 H+ + Phosphate <=> ATP + H2O + 3.0 H+</p>\n",
       "                </td>\n",
       "            </tr><tr>\n",
       "                <td><strong>GPR</strong></td><td>( b3738 and b3736 and b3737 and b3735 and b3733 and b3731 and b3732 and b3734 ) or ( b3734 and b3...</td>\n",
       "            </tr><tr>\n",
       "                <td><strong>Lower bound</strong></td><td>-1000.0</td>\n",
       "            </tr><tr>\n",
       "                <td><strong>Upper bound</strong></td><td>1000.0</td>\n",
       "            </tr>\n",
       "        </table>\n",
       "        "
      ],
      "text/plain": [
       "<Reaction ATPS4r at 0x7f4405d3f700>"
      ]
     },
     "metadata": {},
     "output_type": "display_data"
    },
    {
     "data": {
      "text/html": [
       "\n",
       "        <table>\n",
       "            <tr>\n",
       "                <td><strong>Reaction identifier</strong></td><td>GLNabc</td>\n",
       "            </tr><tr>\n",
       "                <td><strong>Name</strong></td><td>GLNabc</td>\n",
       "            </tr><tr>\n",
       "                <td><strong>Memory address</strong></td>\n",
       "                <td>0x07f4405c80f10</td>\n",
       "            </tr><tr>\n",
       "                <td><strong>Stoichiometry</strong></td>\n",
       "                <td>\n",
       "                    <p style='text-align:right'>atp_c + gln__L_e + h2o_c --> adp_c + gln__L_c + h_c + pi_c</p>\n",
       "                    <p style='text-align:right'>ATP + L-Glutamine + H2O --> ADP + L-Glutamine + H+ + Phosphate</p>\n",
       "                </td>\n",
       "            </tr><tr>\n",
       "                <td><strong>GPR</strong></td><td>b0810 and b0811 and b0809</td>\n",
       "            </tr><tr>\n",
       "                <td><strong>Lower bound</strong></td><td>0.0</td>\n",
       "            </tr><tr>\n",
       "                <td><strong>Upper bound</strong></td><td>1000.0</td>\n",
       "            </tr>\n",
       "        </table>\n",
       "        "
      ],
      "text/plain": [
       "<Reaction GLNabc at 0x7f4405c80f10>"
      ]
     },
     "metadata": {},
     "output_type": "display_data"
    },
    {
     "data": {
      "text/html": [
       "\n",
       "        <table>\n",
       "            <tr>\n",
       "                <td><strong>Reaction identifier</strong></td><td>ACKr</td>\n",
       "            </tr><tr>\n",
       "                <td><strong>Name</strong></td><td>acetate kinase</td>\n",
       "            </tr><tr>\n",
       "                <td><strong>Memory address</strong></td>\n",
       "                <td>0x07f4405d36b20</td>\n",
       "            </tr><tr>\n",
       "                <td><strong>Stoichiometry</strong></td>\n",
       "                <td>\n",
       "                    <p style='text-align:right'>ac_c + atp_c <=> actp_c + adp_c</p>\n",
       "                    <p style='text-align:right'>Acetate + ATP <=> Acetyl phosphate + ADP</p>\n",
       "                </td>\n",
       "            </tr><tr>\n",
       "                <td><strong>GPR</strong></td><td>b2296 or b3115 or b1849</td>\n",
       "            </tr><tr>\n",
       "                <td><strong>Lower bound</strong></td><td>-1000.0</td>\n",
       "            </tr><tr>\n",
       "                <td><strong>Upper bound</strong></td><td>1000.0</td>\n",
       "            </tr>\n",
       "        </table>\n",
       "        "
      ],
      "text/plain": [
       "<Reaction ACKr at 0x7f4405d36b20>"
      ]
     },
     "metadata": {},
     "output_type": "display_data"
    },
    {
     "data": {
      "text/html": [
       "\n",
       "        <table>\n",
       "            <tr>\n",
       "                <td><strong>Reaction identifier</strong></td><td>PPCK</td>\n",
       "            </tr><tr>\n",
       "                <td><strong>Name</strong></td><td>phosphoenolpyruvate carboxykinase</td>\n",
       "            </tr><tr>\n",
       "                <td><strong>Memory address</strong></td>\n",
       "                <td>0x07f4405c43700</td>\n",
       "            </tr><tr>\n",
       "                <td><strong>Stoichiometry</strong></td>\n",
       "                <td>\n",
       "                    <p style='text-align:right'>atp_c + oaa_c --> adp_c + co2_c + pep_c</p>\n",
       "                    <p style='text-align:right'>ATP + Oxaloacetate --> ADP + CO2 + Phosphoenolpyruvate</p>\n",
       "                </td>\n",
       "            </tr><tr>\n",
       "                <td><strong>GPR</strong></td><td>b3403</td>\n",
       "            </tr><tr>\n",
       "                <td><strong>Lower bound</strong></td><td>0.0</td>\n",
       "            </tr><tr>\n",
       "                <td><strong>Upper bound</strong></td><td>1000.0</td>\n",
       "            </tr>\n",
       "        </table>\n",
       "        "
      ],
      "text/plain": [
       "<Reaction PPCK at 0x7f4405c43700>"
      ]
     },
     "metadata": {},
     "output_type": "display_data"
    },
    {
     "data": {
      "text/html": [
       "\n",
       "        <table>\n",
       "            <tr>\n",
       "                <td><strong>Reaction identifier</strong></td><td>PYK</td>\n",
       "            </tr><tr>\n",
       "                <td><strong>Name</strong></td><td>pyruvate kinase</td>\n",
       "            </tr><tr>\n",
       "                <td><strong>Memory address</strong></td>\n",
       "                <td>0x07f4404e8c790</td>\n",
       "            </tr><tr>\n",
       "                <td><strong>Stoichiometry</strong></td>\n",
       "                <td>\n",
       "                    <p style='text-align:right'>adp_c + h_c + pep_c --> atp_c + pyr_c</p>\n",
       "                    <p style='text-align:right'>ADP + H+ + Phosphoenolpyruvate --> ATP + Pyruvate</p>\n",
       "                </td>\n",
       "            </tr><tr>\n",
       "                <td><strong>GPR</strong></td><td>b1854 or b1676</td>\n",
       "            </tr><tr>\n",
       "                <td><strong>Lower bound</strong></td><td>0.0</td>\n",
       "            </tr><tr>\n",
       "                <td><strong>Upper bound</strong></td><td>1000.0</td>\n",
       "            </tr>\n",
       "        </table>\n",
       "        "
      ],
      "text/plain": [
       "<Reaction PYK at 0x7f4404e8c790>"
      ]
     },
     "metadata": {},
     "output_type": "display_data"
    },
    {
     "data": {
      "text/html": [
       "\n",
       "        <table>\n",
       "            <tr>\n",
       "                <td><strong>Reaction identifier</strong></td><td>ADK1</td>\n",
       "            </tr><tr>\n",
       "                <td><strong>Name</strong></td><td>adenylate kinase</td>\n",
       "            </tr><tr>\n",
       "                <td><strong>Memory address</strong></td>\n",
       "                <td>0x07f4405cd51c0</td>\n",
       "            </tr><tr>\n",
       "                <td><strong>Stoichiometry</strong></td>\n",
       "                <td>\n",
       "                    <p style='text-align:right'>amp_c + atp_c <=> 2.0 adp_c</p>\n",
       "                    <p style='text-align:right'>AMP + ATP <=> 2.0 ADP</p>\n",
       "                </td>\n",
       "            </tr><tr>\n",
       "                <td><strong>GPR</strong></td><td>b0474</td>\n",
       "            </tr><tr>\n",
       "                <td><strong>Lower bound</strong></td><td>-1000.0</td>\n",
       "            </tr><tr>\n",
       "                <td><strong>Upper bound</strong></td><td>1000.0</td>\n",
       "            </tr>\n",
       "        </table>\n",
       "        "
      ],
      "text/plain": [
       "<Reaction ADK1 at 0x7f4405cd51c0>"
      ]
     },
     "metadata": {},
     "output_type": "display_data"
    },
    {
     "data": {
      "text/html": [
       "\n",
       "        <table>\n",
       "            <tr>\n",
       "                <td><strong>Reaction identifier</strong></td><td>Biomass_Ecoli_core</td>\n",
       "            </tr><tr>\n",
       "                <td><strong>Name</strong></td><td>Biomass Objective Function with GAM</td>\n",
       "            </tr><tr>\n",
       "                <td><strong>Memory address</strong></td>\n",
       "                <td>0x07f4405cdefd0</td>\n",
       "            </tr><tr>\n",
       "                <td><strong>Stoichiometry</strong></td>\n",
       "                <td>\n",
       "                    <p style='text-align:right'>1.496 3pg_c + 3.7478 accoa_c + 59.81 atp_c + 0.361 e4p_c + 0.0709 f6p_c + 0.129 g3p_c + 0.205 g6p_c + 0.2557 gln__L_c + 4.9414 glu__L_c + 59.81 h2o_c + 3.547 nad_c + 13.0279 nadph_c + 1.7867 oaa_c ...</p>\n",
       "                    <p style='text-align:right'>1.496 3-Phospho-D-glycerate + 3.7478 Acetyl-CoA + 59.81 ATP + 0.361 D-Erythrose 4-phosphate + 0.0709 D-Fructose 6-phosphate + 0.129 Glyceraldehyde 3-phosphate + 0.205 D-Glucose 6-phosphate + 0.2557...</p>\n",
       "                </td>\n",
       "            </tr><tr>\n",
       "                <td><strong>GPR</strong></td><td></td>\n",
       "            </tr><tr>\n",
       "                <td><strong>Lower bound</strong></td><td>0.0</td>\n",
       "            </tr><tr>\n",
       "                <td><strong>Upper bound</strong></td><td>1000.0</td>\n",
       "            </tr>\n",
       "        </table>\n",
       "        "
      ],
      "text/plain": [
       "<Reaction Biomass_Ecoli_core at 0x7f4405cdefd0>"
      ]
     },
     "metadata": {},
     "output_type": "display_data"
    }
   ],
   "source": [
    "for r in atp.reactions:\n",
    "    display(r)"
   ]
  }
 ],
 "metadata": {
  "kernelspec": {
   "display_name": "Python 3",
   "language": "python",
   "name": "python3"
  },
  "language_info": {
   "codemirror_mode": {
    "name": "ipython",
    "version": 3
   },
   "file_extension": ".py",
   "mimetype": "text/x-python",
   "name": "python",
   "nbconvert_exporter": "python",
   "pygments_lexer": "ipython3",
   "version": "3.5.2"
  }
 },
 "nbformat": 4,
 "nbformat_minor": 2
}
